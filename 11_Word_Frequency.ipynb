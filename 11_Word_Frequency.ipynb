{
 "cells": [
  {
   "cell_type": "code",
   "execution_count": 13,
   "metadata": {
    "collapsed": true
   },
   "outputs": [],
   "source": [
    "import os\n",
    "from collections import Counter\n",
    "from string import punctuation\n",
    "import pandas as pd\n",
    "import nltk\n",
    "from nltk.tokenize import RegexpTokenizer\n",
    "from nltk.stem.wordnet import WordNetLemmatizer"
   ]
  },
  {
   "cell_type": "code",
   "execution_count": 10,
   "metadata": {
    "collapsed": true
   },
   "outputs": [],
   "source": [
    "lmtzr = WordNetLemmatizer()\n",
    "tokenizer = RegexpTokenizer(r'\\w+')\n",
    "stopwords = nltk.corpus.stopwords.words('english')\n",
    "\n",
    "def processLine(line):\n",
    "    line = line.lower()\n",
    "    tokens = tokenizer.tokenize(line)\n",
    "    output = []\n",
    "    for t in tokens:\n",
    "        t = lmtzr.lemmatize(t)\n",
    "        if (len(t) <= 2) or (len(t) >= 15) or (t in stopwords) or (t.isdigit()):\n",
    "            continue\n",
    "        output.append(t)\n",
    "    return output"
   ]
  },
  {
   "cell_type": "code",
   "execution_count": 92,
   "metadata": {
    "collapsed": true
   },
   "outputs": [],
   "source": [
    "manufacture = ['MENTOR', 'ALLERGAN', 'IDEAL', 'SIENTRA', 'MCGHAN', 'INAMED', 'SILIMED', 'NAGOR']\n",
    "fill_type = ['SALINE', 'SILICONE', 'GEL', 'COHESIVE']\n",
    "surface_type = ['SMOOTH', 'TEXTURED', 'BIOCELL']\n",
    "implantation_indication = ['AUGMENTATION', 'RECONSTRUCTION', 'COSMETIC']\n",
    "ALCL = ['ALCL', 'ANAPLASTIC LARGE CELL LYMPHOMA', 'LYMPHOMA', 'T-CELL LYMPHOMA', 'B-CELL LYMPHOMA']\n",
    "side = ['LEFT', 'RIGHT']\n",
    "symptom = ['breast pain', 'breast swelling', 'breast cyst', 'breast calcification', 'capsular contracture',\n",
    "           'lymph node enlargement', 'firmness of breast', 'hematoma', 'mass', 'lump', 'rupture', 'deflated',\n",
    "           'infection', 'abscess', 'leukopenia', 'nodules', 'skin discoloration', 'skin lesion', 'seroma',\n",
    "           'effusion', 'fluid']\n",
    "word_list = [manufacture, fill_type, surface_type, implantation_indication, ALCL, side, symptom]\n",
    "\n",
    "MDR_KEY_LIST = []\n",
    "with open('Data/No time filter/FWM_Key_no_time_filter.txt') as fh:\n",
    "    lines = fh.readlines()\n",
    "    for line in lines:\n",
    "        MDR_KEY_LIST.append(line.rstrip('\\n'))\n",
    "with open('Data/No time filter/FTR_Key_no_time_filter.txt') as fh:\n",
    "    lines = fh.readlines()\n",
    "    for line in lines:\n",
    "        MDR_KEY_LIST.append(line.rstrip('\\n'))"
   ]
  },
  {
   "cell_type": "code",
   "execution_count": 4,
   "metadata": {},
   "outputs": [
    {
     "name": "stdout",
     "output_type": "stream",
     "text": [
      "MENTOR : mentor\n",
      "ALLERGAN : allergan\n",
      "IDEAL : ideal\n",
      "SIENTRA : sientra\n",
      "MCGHAN : mcghan\n",
      "INAMED : inamed\n",
      "SILIMED : silimed\n",
      "NAGOR : nagor\n",
      "SALINE : saline\n",
      "SILICONE : silicone\n",
      "COHESIVE : cohesive\n",
      "SMOOTH : smooth\n",
      "TEXTURED : textured\n",
      "BIOCELL : biocell\n",
      "AUGMENTATION : augmentation\n",
      "RECONSTRUCTION : reconstruction\n",
      "COSMETIC : cosmetic\n",
      "ANAPLASTIC LARGE CELL LYMPHOMA : anaplastic large cell lymphoma\n",
      "LYMPHOMA : lymphoma\n",
      "T-CELL LYMPHOMA : cell lymphoma\n",
      "B-CELL LYMPHOMA : cell lymphoma\n",
      "left : left\n",
      "right : right\n",
      "breast pain : breast pain\n",
      "breast swelling : breast swelling\n",
      "breast cyst : breast cyst\n",
      "breast calcification : breast calcification\n",
      "capsular contracture : capsular contracture\n",
      "lymph node enlargement : lymph node enlargement\n",
      "firmness of breasthematoma : firmness breasthematoma\n",
      "mass : mass\n",
      "lump : lump\n",
      "rupture : rupture\n",
      "deflated : deflated\n",
      "infection : infection\n",
      "abscess : abscess\n",
      "leukopenia : leukopenia\n",
      "nodules : nodule\n",
      "skin discoloration : skin discoloration\n",
      "skin lesion : skin lesion\n",
      "seroma : seroma\n",
      "effusion : effusion\n",
      "fluid : fluid\n"
     ]
    }
   ],
   "source": [
    "processed = []\n",
    "for l in word_list:\n",
    "    for w in l:\n",
    "        p = processLine(w)\n",
    "        print(w, ':', p)"
   ]
  },
  {
   "cell_type": "code",
   "execution_count": 26,
   "metadata": {
    "collapsed": true
   },
   "outputs": [],
   "source": [
    "def filtering(s):\n",
    "    if (s == 'FWM') | (s == 'FTR'):\n",
    "        return True\n",
    "    else:\n",
    "        return False"
   ]
  },
  {
   "cell_type": "code",
   "execution_count": 27,
   "metadata": {},
   "outputs": [
    {
     "name": "stderr",
     "output_type": "stream",
     "text": [
      "b'Skipping line 3974: expected 28 fields, saw 29\\n'\n",
      "b'Skipping line 46727: expected 28 fields, saw 29\\n'\n",
      "b'Skipping line 7949: expected 28 fields, saw 29\\n'\n",
      "b'Skipping line 24283: expected 28 fields, saw 29\\n'\n",
      "b'Skipping line 54015: expected 45 fields, saw 47\\n'\n",
      "b'Skipping line 66558: expected 45 fields, saw 58\\n'\n",
      "b'Skipping line 121357: expected 45 fields, saw 59\\nSkipping line 122019: expected 45 fields, saw 59\\nSkipping line 129021: expected 45 fields, saw 58\\n'\n",
      "/Library/Frameworks/Python.framework/Versions/3.6/lib/python3.6/site-packages/IPython/core/interactiveshell.py:2698: DtypeWarning: Columns (10,12,13,14,16,27,28,29,30,31,32,33,34,35,36,37,38,39,40,41,42,43,44) have mixed types. Specify dtype option on import or set low_memory=False.\n",
      "  interactivity=interactivity, compiler=compiler, result=result)\n",
      "/Library/Frameworks/Python.framework/Versions/3.6/lib/python3.6/site-packages/IPython/core/interactiveshell.py:2698: DtypeWarning: Columns (14) have mixed types. Specify dtype option on import or set low_memory=False.\n",
      "  interactivity=interactivity, compiler=compiler, result=result)\n",
      "b'Skipping line 16452: expected 45 fields, saw 46\\n'\n",
      "b'Skipping line 48741: expected 45 fields, saw 57\\n'\n",
      "/Library/Frameworks/Python.framework/Versions/3.6/lib/python3.6/site-packages/IPython/core/interactiveshell.py:2698: DtypeWarning: Columns (13,14) have mixed types. Specify dtype option on import or set low_memory=False.\n",
      "  interactivity=interactivity, compiler=compiler, result=result)\n",
      "b'Skipping line 23599: expected 45 fields, saw 48\\n'\n",
      "/Library/Frameworks/Python.framework/Versions/3.6/lib/python3.6/site-packages/IPython/core/interactiveshell.py:2698: DtypeWarning: Columns (14,31,35,44) have mixed types. Specify dtype option on import or set low_memory=False.\n",
      "  interactivity=interactivity, compiler=compiler, result=result)\n",
      "/Library/Frameworks/Python.framework/Versions/3.6/lib/python3.6/site-packages/IPython/core/interactiveshell.py:2698: DtypeWarning: Columns (14,31,35) have mixed types. Specify dtype option on import or set low_memory=False.\n",
      "  interactivity=interactivity, compiler=compiler, result=result)\n",
      "/Library/Frameworks/Python.framework/Versions/3.6/lib/python3.6/site-packages/IPython/core/interactiveshell.py:2698: DtypeWarning: Columns (0,1,2) have mixed types. Specify dtype option on import or set low_memory=False.\n",
      "  interactivity=interactivity, compiler=compiler, result=result)\n",
      "b'Skipping line 34672: expected 28 fields, saw 29\\n'\n",
      "b'Skipping line 117249: expected 28 fields, saw 29\\n'\n",
      "b'Skipping line 154198: expected 28 fields, saw 29\\n'\n",
      "b'Skipping line 211424: expected 28 fields, saw 29\\n'\n",
      "b'Skipping line 267765: expected 28 fields, saw 29\\n'\n",
      "b'Skipping line 397060: expected 28 fields, saw 29\\n'\n",
      "b'Skipping line 426436: expected 28 fields, saw 29\\n'\n",
      "/Library/Frameworks/Python.framework/Versions/3.6/lib/python3.6/site-packages/IPython/core/interactiveshell.py:2698: DtypeWarning: Columns (0,1,2,3,4) have mixed types. Specify dtype option on import or set low_memory=False.\n",
      "  interactivity=interactivity, compiler=compiler, result=result)\n",
      "b'Skipping line 24816: expected 28 fields, saw 29\\n'\n",
      "b'Skipping line 159206: expected 28 fields, saw 29\\n'\n",
      "b'Skipping line 166194: expected 28 fields, saw 29\\nSkipping line 187565: expected 28 fields, saw 42\\n'\n",
      "b'Skipping line 285177: expected 28 fields, saw 42\\n'\n",
      "b'Skipping line 336730: expected 28 fields, saw 42\\n'\n",
      "b'Skipping line 516611: expected 28 fields, saw 29\\n'\n",
      "b'Skipping line 537510: expected 28 fields, saw 42\\n'\n",
      "b'Skipping line 633833: expected 28 fields, saw 29\\n'\n",
      "b'Skipping line 670754: expected 28 fields, saw 29\\n'\n",
      "b'Skipping line 725216: expected 28 fields, saw 29\\n'\n",
      "b'Skipping line 844969: expected 28 fields, saw 29\\n'\n",
      "b'Skipping line 99668: expected 28 fields, saw 40\\n'\n",
      "b'Skipping line 397258: expected 28 fields, saw 29\\n'\n",
      "b'Skipping line 535712: expected 28 fields, saw 29\\n'\n",
      "b'Skipping line 648332: expected 28 fields, saw 29\\n'\n",
      "b'Skipping line 707376: expected 28 fields, saw 29\\n'\n",
      "b'Skipping line 839606: expected 28 fields, saw 29\\n'\n",
      "b'Skipping line 10097: expected 28 fields, saw 29\\nSkipping line 12356: expected 28 fields, saw 29\\n'\n",
      "b'Skipping line 88785: expected 28 fields, saw 29\\n'\n",
      "b'Skipping line 202635: expected 28 fields, saw 29\\n'\n",
      "b'Skipping line 230410: expected 28 fields, saw 29\\nSkipping line 232766: expected 28 fields, saw 29\\n'\n",
      "b'Skipping line 263700: expected 28 fields, saw 29\\nSkipping line 289010: expected 28 fields, saw 29\\n'\n",
      "b'Skipping line 334936: expected 28 fields, saw 29\\n'\n",
      "b'Skipping line 443377: expected 28 fields, saw 29\\n'\n",
      "b'Skipping line 570165: expected 28 fields, saw 29\\n'\n",
      "b'Skipping line 606191: expected 28 fields, saw 29\\nSkipping line 620211: expected 28 fields, saw 29\\n'\n",
      "b'Skipping line 694779: expected 28 fields, saw 29\\n'\n",
      "b'Skipping line 729113: expected 28 fields, saw 29\\nSkipping line 733739: expected 28 fields, saw 29\\n'\n",
      "b'Skipping line 775832: expected 28 fields, saw 29\\n'\n",
      "b'Skipping line 786838: expected 28 fields, saw 29\\n'\n"
     ]
    }
   ],
   "source": [
    "FOI_DEV_LIST = ['', 'Add', 'Change', 'thru1997']\n",
    "for i in range(1998, 2017):\n",
    "    FOI_DEV_LIST.append(str(i))\n",
    "\n",
    "df_list = []\n",
    "for s in FOI_DEV_LIST:\n",
    "    df = pd.read_csv('foidev/foidev'+s+'.txt', sep='|', header=0, encoding='ISO-8859-1', error_bad_lines=False)\n",
    "    df_list.append(df)\n",
    "df_BASELINE = pd.concat(df_list, axis=0)\n",
    "del df_list\n",
    "\n",
    "df_BASELINE['filter'] = df_BASELINE['DEVICE_REPORT_PRODUCT_CODE'].map(filtering)\n",
    "df_BI_DEV = df_BASELINE.loc[df_BASELINE['filter']==True, :]"
   ]
  },
  {
   "cell_type": "code",
   "execution_count": 35,
   "metadata": {
    "scrolled": true
   },
   "outputs": [
    {
     "name": "stdout",
     "output_type": "stream",
     "text": [
      "29031\n"
     ]
    }
   ],
   "source": [
    "print(df_BI_DEV.shape[0])\n",
    "# del df_BI_DEV['filter']\n",
    "for n in df_BI_DEV.columns.values:\n",
    "    if 'BASELINE' in n:\n",
    "        del df_BI_DEV[n]\n",
    "df_BI_DEV.to_csv('WF/DEV_BI_FULL_TABLE.txt', header=True, index=False, sep='|')"
   ]
  },
  {
   "cell_type": "code",
   "execution_count": 42,
   "metadata": {
    "collapsed": false
   },
   "outputs": [
    {
     "name": "stdout",
     "output_type": "stream",
     "text": [
      "Manufacturer word frequecy:\n",
      "\n",
      "MENTOR : 3439\n",
      "ALLERGAN : 2100\n",
      "IDEAL : 24\n",
      "SIENTRA : 23\n",
      "MCGHAN : 2120\n",
      "INAMED : 189\n",
      "SILIMED : 7\n",
      "NAGOR : 4\n"
     ]
    }
   ],
   "source": [
    "print('Manufacturer word frequecy:\\n')\n",
    "for m in manufacture:\n",
    "    counter = 0\n",
    "    fh = open('WF/manufacturer/'+m+'.txt', 'w')\n",
    "    for index, value in df_BI_DEV.iterrows():\n",
    "        l = str(value['MANUFACTURER_D_NAME']).split(' ')\n",
    "        if m in l:\n",
    "            fh.write(str(value['MDR_REPORT_KEY']) + '\\n')\n",
    "            counter += 1\n",
    "    print(m, ':', counter)\n",
    "    fh.close()"
   ]
  },
  {
   "cell_type": "code",
   "execution_count": 62,
   "metadata": {},
   "outputs": [
    {
     "name": "stderr",
     "output_type": "stream",
     "text": [
      "b'Skipping line 12326: expected 6 fields, saw 7\\nSkipping line 41095: expected 6 fields, saw 7\\nSkipping line 58906: expected 6 fields, saw 14\\nSkipping line 105443: expected 6 fields, saw 8\\n'\n",
      "b'Skipping line 136392: expected 6 fields, saw 7\\nSkipping line 175249: expected 6 fields, saw 7\\nSkipping line 212357: expected 6 fields, saw 7\\nSkipping line 244567: expected 6 fields, saw 7\\nSkipping line 252598: expected 6 fields, saw 8\\n'\n",
      "b'Skipping line 278732: expected 6 fields, saw 7\\nSkipping line 315087: expected 6 fields, saw 7\\nSkipping line 322888: expected 6 fields, saw 7\\nSkipping line 374939: expected 6 fields, saw 7\\nSkipping line 388628: expected 6 fields, saw 7\\n'\n",
      "b'Skipping line 469829: expected 6 fields, saw 7\\nSkipping line 471072: expected 6 fields, saw 7\\nSkipping line 508184: expected 6 fields, saw 7\\nSkipping line 508372: expected 6 fields, saw 7\\n'\n",
      "b'Skipping line 548966: expected 6 fields, saw 8\\nSkipping line 549426: expected 6 fields, saw 7\\nSkipping line 574290: expected 6 fields, saw 7\\nSkipping line 581595: expected 6 fields, saw 7\\nSkipping line 582412: expected 6 fields, saw 7\\nSkipping line 607966: expected 6 fields, saw 7\\nSkipping line 626804: expected 6 fields, saw 7\\nSkipping line 627937: expected 6 fields, saw 7\\n'\n",
      "b'Skipping line 702080: expected 6 fields, saw 7\\nSkipping line 768084: expected 6 fields, saw 7\\n'\n",
      "b'Skipping line 889388: expected 6 fields, saw 8\\n'\n",
      "b'Skipping line 939394: expected 6 fields, saw 7\\nSkipping line 953223: expected 6 fields, saw 7\\nSkipping line 960403: expected 6 fields, saw 7\\nSkipping line 992229: expected 6 fields, saw 7\\nSkipping line 993074: expected 6 fields, saw 7\\nSkipping line 994602: expected 6 fields, saw 7\\nSkipping line 1027983: expected 6 fields, saw 7\\nSkipping line 1041120: expected 6 fields, saw 9\\n'\n",
      "b'Skipping line 1072605: expected 6 fields, saw 7\\nSkipping line 1115860: expected 6 fields, saw 7\\nSkipping line 1116652: expected 6 fields, saw 7\\nSkipping line 1142243: expected 6 fields, saw 8\\n'\n",
      "b'Skipping line 1909: expected 6 fields, saw 7\\nSkipping line 106185: expected 6 fields, saw 7\\n'\n",
      "b'Skipping line 4144: expected 6 fields, saw 7\\nSkipping line 18057: expected 6 fields, saw 7\\nSkipping line 25881: expected 6 fields, saw 7\\nSkipping line 29236: expected 6 fields, saw 8\\nSkipping line 32456: expected 6 fields, saw 8\\nSkipping line 69760: expected 6 fields, saw 7\\nSkipping line 75054: expected 6 fields, saw 7\\nSkipping line 100636: expected 6 fields, saw 8\\nSkipping line 116432: expected 6 fields, saw 28\\nSkipping line 128705: expected 6 fields, saw 11\\n'\n",
      "b'Skipping line 186742: expected 6 fields, saw 7\\nSkipping line 188236: expected 6 fields, saw 7\\nSkipping line 217101: expected 6 fields, saw 8\\nSkipping line 231214: expected 6 fields, saw 11\\n'\n",
      "b'Skipping line 262909: expected 6 fields, saw 7\\nSkipping line 325993: expected 6 fields, saw 7\\nSkipping line 345480: expected 6 fields, saw 7\\nSkipping line 350365: expected 6 fields, saw 19\\n'\n",
      "b'Skipping line 16266: expected 6 fields, saw 28\\nSkipping line 18280: expected 6 fields, saw 7\\nSkipping line 30360: expected 6 fields, saw 10\\n'\n",
      "b'Skipping line 5693: expected 6 fields, saw 7\\nSkipping line 18817: expected 6 fields, saw 7\\nSkipping line 30629: expected 6 fields, saw 7\\nSkipping line 65858: expected 6 fields, saw 7\\n'\n",
      "b'Skipping line 3498: expected 6 fields, saw 7\\nSkipping line 5044: expected 6 fields, saw 7\\nSkipping line 22130: expected 6 fields, saw 8\\nSkipping line 28196: expected 6 fields, saw 7\\nSkipping line 47549: expected 6 fields, saw 7\\nSkipping line 50225: expected 6 fields, saw 7\\nSkipping line 58049: expected 6 fields, saw 7\\nSkipping line 59816: expected 6 fields, saw 7\\nSkipping line 71016: expected 6 fields, saw 8\\nSkipping line 72769: expected 6 fields, saw 7\\nSkipping line 91768: expected 6 fields, saw 8\\nSkipping line 99168: expected 6 fields, saw 7\\nSkipping line 101179: expected 6 fields, saw 7\\nSkipping line 113099: expected 6 fields, saw 7\\nSkipping line 114299: expected 6 fields, saw 7\\nSkipping line 115871: expected 6 fields, saw 7\\nSkipping line 124610: expected 6 fields, saw 7\\nSkipping line 128676: expected 6 fields, saw 26\\n'\n",
      "b'Skipping line 140608: expected 6 fields, saw 8\\nSkipping line 153010: expected 6 fields, saw 11\\nSkipping line 158400: expected 6 fields, saw 7\\nSkipping line 165826: expected 6 fields, saw 7\\nSkipping line 167438: expected 6 fields, saw 7\\nSkipping line 172125: expected 6 fields, saw 8\\nSkipping line 172870: expected 6 fields, saw 8\\nSkipping line 175091: expected 6 fields, saw 9\\n'\n",
      "b'Skipping line 604861: expected 6 fields, saw 7\\n'\n",
      "b'Skipping line 279892: expected 6 fields, saw 10\\n'\n",
      "b'Skipping line 513515: expected 6 fields, saw 10\\n'\n",
      "b'Skipping line 70946: expected 6 fields, saw 7\\nSkipping line 104363: expected 6 fields, saw 8\\n'\n",
      "b'Skipping line 216807: expected 6 fields, saw 8\\n'\n",
      "b'Skipping line 372694: expected 6 fields, saw 8\\nSkipping line 385546: expected 6 fields, saw 7\\n'\n",
      "b'Skipping line 502732: expected 6 fields, saw 7\\nSkipping line 502744: expected 6 fields, saw 7\\n'\n",
      "b'Skipping line 614747: expected 6 fields, saw 7\\n'\n",
      "b'Skipping line 655835: expected 6 fields, saw 8\\n'\n",
      "b'Skipping line 801296: expected 6 fields, saw 7\\nSkipping line 842014: expected 6 fields, saw 8\\n'\n",
      "b'Skipping line 958137: expected 6 fields, saw 7\\n'\n",
      "b'Skipping line 1118369: expected 6 fields, saw 9\\n'\n",
      "b'Skipping line 1246859: expected 6 fields, saw 7\\n'\n",
      "b'Skipping line 236429: expected 6 fields, saw 7\\n'\n",
      "b'Skipping line 459280: expected 6 fields, saw 14\\n'\n",
      "b'Skipping line 1189476: expected 6 fields, saw 7\\n'\n",
      "b'Skipping line 1417218: expected 6 fields, saw 8\\n'\n",
      "b'Skipping line 1443165: expected 6 fields, saw 7\\n'\n",
      "b'Skipping line 58566: expected 6 fields, saw 18\\nSkipping line 61716: expected 6 fields, saw 8\\n'\n",
      "b'Skipping line 166628: expected 6 fields, saw 27\\nSkipping line 173673: expected 6 fields, saw 12\\nSkipping line 184392: expected 6 fields, saw 8\\nSkipping line 208827: expected 6 fields, saw 7\\n'\n",
      "b'Skipping line 335754: expected 6 fields, saw 9\\nSkipping line 370578: expected 6 fields, saw 7\\n'\n",
      "b'Skipping line 477356: expected 6 fields, saw 8\\nSkipping line 508812: expected 6 fields, saw 8\\n'\n",
      "b'Skipping line 577703: expected 6 fields, saw 7\\nSkipping line 609991: expected 6 fields, saw 12\\nSkipping line 615429: expected 6 fields, saw 7\\n'\n",
      "b'Skipping line 697385: expected 6 fields, saw 8\\nSkipping line 715386: expected 6 fields, saw 7\\nSkipping line 720141: expected 6 fields, saw 7\\nSkipping line 736703: expected 6 fields, saw 9\\n'\n",
      "b'Skipping line 791567: expected 6 fields, saw 8\\nSkipping line 805014: expected 6 fields, saw 8\\nSkipping line 820671: expected 6 fields, saw 8\\n'\n",
      "b'Skipping line 979034: expected 6 fields, saw 7\\nSkipping line 1045512: expected 6 fields, saw 9\\n'\n",
      "b'Skipping line 1082683: expected 6 fields, saw 9\\nSkipping line 1114444: expected 6 fields, saw 8\\nSkipping line 1152361: expected 6 fields, saw 8\\n'\n",
      "b'Skipping line 1242335: expected 6 fields, saw 7\\nSkipping line 1278243: expected 6 fields, saw 7\\nSkipping line 1289641: expected 6 fields, saw 7\\n'\n",
      "b'Skipping line 1350712: expected 6 fields, saw 7\\nSkipping line 1413257: expected 6 fields, saw 8\\nSkipping line 1418852: expected 6 fields, saw 9\\n'\n",
      "b'Skipping line 1454198: expected 6 fields, saw 9\\nSkipping line 1561372: expected 6 fields, saw 9\\n'\n",
      "b'Skipping line 1582569: expected 6 fields, saw 7\\nSkipping line 1632552: expected 6 fields, saw 9\\nSkipping line 1681456: expected 6 fields, saw 8\\n'\n",
      "b'Skipping line 1792767: expected 6 fields, saw 12\\nSkipping line 1796204: expected 6 fields, saw 7\\nSkipping line 1802273: expected 6 fields, saw 7\\n'\n",
      "b'Skipping line 1835849: expected 6 fields, saw 9\\nSkipping line 1841427: expected 6 fields, saw 9\\nSkipping line 1896445: expected 6 fields, saw 9\\nSkipping line 1938756: expected 6 fields, saw 12\\nSkipping line 1956312: expected 6 fields, saw 7\\n'\n",
      "b'Skipping line 12054: expected 6 fields, saw 8\\nSkipping line 12414: expected 6 fields, saw 7\\nSkipping line 13369: expected 6 fields, saw 13\\nSkipping line 17215: expected 6 fields, saw 8\\nSkipping line 18175: expected 6 fields, saw 8\\nSkipping line 18602: expected 6 fields, saw 8\\nSkipping line 21649: expected 6 fields, saw 21\\nSkipping line 21696: expected 6 fields, saw 21\\nSkipping line 31566: expected 6 fields, saw 7\\nSkipping line 56292: expected 6 fields, saw 10\\nSkipping line 64496: expected 6 fields, saw 8\\nSkipping line 93169: expected 6 fields, saw 7\\nSkipping line 118397: expected 6 fields, saw 8\\n'\n"
     ]
    },
    {
     "name": "stderr",
     "output_type": "stream",
     "text": [
      "b'Skipping line 145016: expected 6 fields, saw 7\\nSkipping line 145918: expected 6 fields, saw 15\\nSkipping line 152452: expected 6 fields, saw 14\\nSkipping line 171616: expected 6 fields, saw 7\\nSkipping line 173453: expected 6 fields, saw 7\\nSkipping line 175441: expected 6 fields, saw 7\\nSkipping line 182287: expected 6 fields, saw 7\\nSkipping line 188206: expected 6 fields, saw 7\\nSkipping line 204131: expected 6 fields, saw 13\\nSkipping line 236093: expected 6 fields, saw 12\\nSkipping line 247721: expected 6 fields, saw 8\\n'\n",
      "b'Skipping line 266986: expected 6 fields, saw 8\\nSkipping line 280145: expected 6 fields, saw 8\\nSkipping line 285217: expected 6 fields, saw 7\\nSkipping line 285986: expected 6 fields, saw 10\\nSkipping line 289821: expected 6 fields, saw 8\\nSkipping line 298732: expected 6 fields, saw 9\\nSkipping line 304031: expected 6 fields, saw 7\\nSkipping line 317389: expected 6 fields, saw 7\\nSkipping line 342015: expected 6 fields, saw 10\\nSkipping line 349838: expected 6 fields, saw 8\\nSkipping line 350119: expected 6 fields, saw 10\\nSkipping line 354810: expected 6 fields, saw 12\\nSkipping line 376594: expected 6 fields, saw 7\\nSkipping line 378314: expected 6 fields, saw 8\\nSkipping line 384497: expected 6 fields, saw 7\\nSkipping line 388134: expected 6 fields, saw 7\\n'\n",
      "b'Skipping line 400137: expected 6 fields, saw 8\\nSkipping line 404381: expected 6 fields, saw 8\\nSkipping line 408604: expected 6 fields, saw 7\\nSkipping line 430596: expected 6 fields, saw 7\\nSkipping line 440024: expected 6 fields, saw 9\\nSkipping line 453477: expected 6 fields, saw 8\\nSkipping line 473256: expected 6 fields, saw 9\\nSkipping line 482851: expected 6 fields, saw 8\\nSkipping line 496811: expected 6 fields, saw 13\\nSkipping line 508064: expected 6 fields, saw 14\\nSkipping line 515733: expected 6 fields, saw 7\\n'\n",
      "b'Skipping line 534823: expected 6 fields, saw 7\\nSkipping line 571038: expected 6 fields, saw 9\\nSkipping line 586664: expected 6 fields, saw 9\\nSkipping line 609960: expected 6 fields, saw 9\\nSkipping line 626800: expected 6 fields, saw 10\\n'\n",
      "b'Skipping line 655663: expected 6 fields, saw 7\\nSkipping line 659388: expected 6 fields, saw 12\\nSkipping line 660746: expected 6 fields, saw 7\\nSkipping line 667849: expected 6 fields, saw 8\\nSkipping line 707264: expected 6 fields, saw 10\\nSkipping line 720036: expected 6 fields, saw 7\\nSkipping line 744771: expected 6 fields, saw 7\\nSkipping line 757226: expected 6 fields, saw 8\\nSkipping line 786260: expected 6 fields, saw 8\\n'\n",
      "b'Skipping line 791063: expected 6 fields, saw 7\\nSkipping line 792799: expected 6 fields, saw 8\\nSkipping line 799375: expected 6 fields, saw 8\\nSkipping line 816001: expected 6 fields, saw 7\\nSkipping line 821386: expected 6 fields, saw 10\\nSkipping line 830076: expected 6 fields, saw 8\\nSkipping line 830161: expected 6 fields, saw 9\\nSkipping line 837015: expected 6 fields, saw 12\\nSkipping line 861581: expected 6 fields, saw 7\\nSkipping line 893696: expected 6 fields, saw 7\\nSkipping line 899232: expected 6 fields, saw 11\\nSkipping line 902377: expected 6 fields, saw 9\\nSkipping line 906148: expected 6 fields, saw 8\\nSkipping line 907491: expected 6 fields, saw 15\\n'\n",
      "b'Skipping line 918365: expected 6 fields, saw 11\\nSkipping line 931557: expected 6 fields, saw 7\\nSkipping line 945208: expected 6 fields, saw 8\\nSkipping line 956102: expected 6 fields, saw 7\\nSkipping line 961090: expected 6 fields, saw 12\\nSkipping line 961868: expected 6 fields, saw 7\\nSkipping line 962658: expected 6 fields, saw 11\\nSkipping line 974377: expected 6 fields, saw 7\\nSkipping line 991307: expected 6 fields, saw 7\\nSkipping line 999100: expected 6 fields, saw 8\\nSkipping line 999343: expected 6 fields, saw 7\\nSkipping line 1013558: expected 6 fields, saw 9\\nSkipping line 1017727: expected 6 fields, saw 7\\nSkipping line 1025288: expected 6 fields, saw 10\\nSkipping line 1028642: expected 6 fields, saw 9\\nSkipping line 1034551: expected 6 fields, saw 7\\nSkipping line 1035852: expected 6 fields, saw 7\\nSkipping line 1038017: expected 6 fields, saw 10\\n'\n",
      "b'Skipping line 1091634: expected 6 fields, saw 13\\nSkipping line 1093872: expected 6 fields, saw 9\\nSkipping line 1116209: expected 6 fields, saw 10\\nSkipping line 1128875: expected 6 fields, saw 8\\nSkipping line 1136781: expected 6 fields, saw 7\\nSkipping line 1145224: expected 6 fields, saw 7\\nSkipping line 1157531: expected 6 fields, saw 8\\nSkipping line 1169139: expected 6 fields, saw 8\\nSkipping line 1169609: expected 6 fields, saw 7\\nSkipping line 1175088: expected 6 fields, saw 7\\n'\n",
      "b'Skipping line 1181580: expected 6 fields, saw 8\\nSkipping line 1202211: expected 6 fields, saw 8\\nSkipping line 1211808: expected 6 fields, saw 8\\nSkipping line 1214241: expected 6 fields, saw 7\\nSkipping line 1229319: expected 6 fields, saw 8\\nSkipping line 1252344: expected 6 fields, saw 8\\nSkipping line 1267619: expected 6 fields, saw 15\\nSkipping line 1274062: expected 6 fields, saw 13\\nSkipping line 1282126: expected 6 fields, saw 21\\nSkipping line 1293910: expected 6 fields, saw 11\\nSkipping line 1300036: expected 6 fields, saw 7\\n'\n",
      "b'Skipping line 1320743: expected 6 fields, saw 7\\nSkipping line 1355491: expected 6 fields, saw 7\\nSkipping line 1360910: expected 6 fields, saw 12\\nSkipping line 1362815: expected 6 fields, saw 7\\nSkipping line 1368898: expected 6 fields, saw 8\\nSkipping line 1403407: expected 6 fields, saw 10\\nSkipping line 1410968: expected 6 fields, saw 9\\nSkipping line 1414670: expected 6 fields, saw 9\\nSkipping line 1419554: expected 6 fields, saw 7\\nSkipping line 1425653: expected 6 fields, saw 7\\nSkipping line 1426749: expected 6 fields, saw 9\\nSkipping line 1436365: expected 6 fields, saw 11\\n'\n",
      "b'Skipping line 1450797: expected 6 fields, saw 9\\nSkipping line 1456625: expected 6 fields, saw 8\\nSkipping line 1462643: expected 6 fields, saw 7\\nSkipping line 1472638: expected 6 fields, saw 8\\nSkipping line 1483593: expected 6 fields, saw 11\\nSkipping line 1483891: expected 6 fields, saw 9\\nSkipping line 1488943: expected 6 fields, saw 15\\nSkipping line 1490098: expected 6 fields, saw 10\\nSkipping line 1490596: expected 6 fields, saw 7\\nSkipping line 1495910: expected 6 fields, saw 7\\nSkipping line 1508837: expected 6 fields, saw 13\\nSkipping line 1511320: expected 6 fields, saw 10\\nSkipping line 1537684: expected 6 fields, saw 7\\nSkipping line 1554798: expected 6 fields, saw 14\\nSkipping line 1569806: expected 6 fields, saw 12\\n'\n",
      "b'Skipping line 1577001: expected 6 fields, saw 7\\nSkipping line 1588271: expected 6 fields, saw 7\\nSkipping line 1653333: expected 6 fields, saw 9\\nSkipping line 1677916: expected 6 fields, saw 8\\nSkipping line 1685520: expected 6 fields, saw 8\\n'\n",
      "b'Skipping line 1706169: expected 6 fields, saw 8\\nSkipping line 1716700: expected 6 fields, saw 7\\nSkipping line 1736011: expected 6 fields, saw 8\\nSkipping line 1744866: expected 6 fields, saw 8\\nSkipping line 1748141: expected 6 fields, saw 7\\nSkipping line 1749329: expected 6 fields, saw 14\\nSkipping line 1749496: expected 6 fields, saw 7\\nSkipping line 1772789: expected 6 fields, saw 8\\nSkipping line 1776001: expected 6 fields, saw 14\\nSkipping line 1801869: expected 6 fields, saw 11\\nSkipping line 1811208: expected 6 fields, saw 15\\nSkipping line 1825411: expected 6 fields, saw 7\\n'\n",
      "b'Skipping line 1844159: expected 6 fields, saw 21\\nSkipping line 1852158: expected 6 fields, saw 13\\nSkipping line 1867216: expected 6 fields, saw 7\\nSkipping line 1869208: expected 6 fields, saw 8\\nSkipping line 1880141: expected 6 fields, saw 7\\nSkipping line 1888132: expected 6 fields, saw 15\\nSkipping line 1908804: expected 6 fields, saw 15\\nSkipping line 1921228: expected 6 fields, saw 7\\nSkipping line 1923696: expected 6 fields, saw 7\\nSkipping line 1952901: expected 6 fields, saw 8\\nSkipping line 1953999: expected 6 fields, saw 8\\n'\n",
      "b'Skipping line 2003027: expected 6 fields, saw 7\\nSkipping line 2012099: expected 6 fields, saw 7\\nSkipping line 2012268: expected 6 fields, saw 7\\nSkipping line 2017924: expected 6 fields, saw 12\\nSkipping line 2018369: expected 6 fields, saw 9\\nSkipping line 2026521: expected 6 fields, saw 9\\nSkipping line 2040723: expected 6 fields, saw 8\\nSkipping line 2052749: expected 6 fields, saw 9\\nSkipping line 2065467: expected 6 fields, saw 12\\nSkipping line 2073081: expected 6 fields, saw 14\\nSkipping line 2083947: expected 6 fields, saw 9\\n'\n"
     ]
    },
    {
     "name": "stderr",
     "output_type": "stream",
     "text": [
      "b'Skipping line 2098204: expected 6 fields, saw 7\\nSkipping line 2143443: expected 6 fields, saw 10\\nSkipping line 2156060: expected 6 fields, saw 9\\nSkipping line 2168863: expected 6 fields, saw 13\\nSkipping line 2174632: expected 6 fields, saw 10\\nSkipping line 2178925: expected 6 fields, saw 19\\nSkipping line 2198300: expected 6 fields, saw 7\\nSkipping line 2209664: expected 6 fields, saw 13\\nSkipping line 2209972: expected 6 fields, saw 7\\nSkipping line 2211883: expected 6 fields, saw 8\\n'\n",
      "b'Skipping line 2230573: expected 6 fields, saw 8\\nSkipping line 2231276: expected 6 fields, saw 8\\nSkipping line 2233511: expected 6 fields, saw 8\\nSkipping line 2238958: expected 6 fields, saw 7\\nSkipping line 2240449: expected 6 fields, saw 7\\nSkipping line 2245124: expected 6 fields, saw 7\\nSkipping line 2248925: expected 6 fields, saw 13\\nSkipping line 2256102: expected 6 fields, saw 9\\n'\n",
      "b'Skipping line 1427: expected 6 fields, saw 7\\nSkipping line 35232: expected 6 fields, saw 8\\nSkipping line 38321: expected 6 fields, saw 7\\nSkipping line 54531: expected 6 fields, saw 7\\nSkipping line 124906: expected 6 fields, saw 11\\n'\n",
      "b'Skipping line 215408: expected 6 fields, saw 7\\n'\n",
      "b'Skipping line 263879: expected 6 fields, saw 9\\nSkipping line 315456: expected 6 fields, saw 7\\nSkipping line 353275: expected 6 fields, saw 7\\n'\n",
      "b'Skipping line 411784: expected 6 fields, saw 7\\n'\n",
      "b'Skipping line 557447: expected 6 fields, saw 7\\nSkipping line 583140: expected 6 fields, saw 9\\n'\n",
      "b'Skipping line 701851: expected 6 fields, saw 7\\nSkipping line 722897: expected 6 fields, saw 9\\nSkipping line 741880: expected 6 fields, saw 7\\nSkipping line 775529: expected 6 fields, saw 8\\n'\n",
      "b'Skipping line 809305: expected 6 fields, saw 7\\nSkipping line 886939: expected 6 fields, saw 7\\n'\n",
      "b'Skipping line 918501: expected 6 fields, saw 7\\nSkipping line 1042125: expected 6 fields, saw 7\\n'\n",
      "b'Skipping line 1159746: expected 6 fields, saw 7\\n'\n",
      "b'Skipping line 1249889: expected 6 fields, saw 23\\n'\n",
      "b'Skipping line 1372331: expected 6 fields, saw 7\\nSkipping line 1412006: expected 6 fields, saw 7\\nSkipping line 1428660: expected 6 fields, saw 8\\n'\n",
      "b'Skipping line 1451832: expected 6 fields, saw 9\\nSkipping line 1455944: expected 6 fields, saw 7\\nSkipping line 1459275: expected 6 fields, saw 13\\nSkipping line 1497707: expected 6 fields, saw 7\\nSkipping line 1497715: expected 6 fields, saw 7\\nSkipping line 1531340: expected 6 fields, saw 7\\n'\n",
      "b'Skipping line 1595489: expected 6 fields, saw 10\\nSkipping line 1608909: expected 6 fields, saw 9\\n'\n",
      "b'Skipping line 1704719: expected 6 fields, saw 7\\nSkipping line 1812728: expected 6 fields, saw 7\\nSkipping line 1813435: expected 6 fields, saw 7\\nSkipping line 1819084: expected 6 fields, saw 7\\n'\n",
      "b'Skipping line 1858898: expected 6 fields, saw 19\\nSkipping line 1876811: expected 6 fields, saw 9\\nSkipping line 1936273: expected 6 fields, saw 7\\nSkipping line 1965997: expected 6 fields, saw 8\\n'\n",
      "b'Skipping line 2081242: expected 6 fields, saw 7\\n'\n"
     ]
    },
    {
     "name": "stdout",
     "output_type": "stream",
     "text": [
      "34208\n"
     ]
    },
    {
     "data": {
      "text/html": [
       "<div>\n",
       "<table border=\"1\" class=\"dataframe\">\n",
       "  <thead>\n",
       "    <tr style=\"text-align: right;\">\n",
       "      <th></th>\n",
       "      <th>MDR_REPORT_KEY</th>\n",
       "      <th>MDR_TEXT_KEY</th>\n",
       "      <th>TEXT_TYPE_CODE</th>\n",
       "      <th>PATIENT_SEQUENCE_NUMBER</th>\n",
       "      <th>DATE_REPORT</th>\n",
       "      <th>FOI_TEXT</th>\n",
       "    </tr>\n",
       "  </thead>\n",
       "  <tbody>\n",
       "    <tr>\n",
       "      <th>0</th>\n",
       "      <td>6730886</td>\n",
       "      <td>80620016</td>\n",
       "      <td>D</td>\n",
       "      <td>1</td>\n",
       "      <td>NaN</td>\n",
       "      <td>HEALTHCARE PROFESSIONAL REPORTED A LEFT SIDE D...</td>\n",
       "    </tr>\n",
       "    <tr>\n",
       "      <th>1</th>\n",
       "      <td>6730886</td>\n",
       "      <td>80620016</td>\n",
       "      <td>D</td>\n",
       "      <td>1</td>\n",
       "      <td>NaN</td>\n",
       "      <td>HEALTHCARE PROFESSIONAL REPORTED A LEFT SIDE D...</td>\n",
       "    </tr>\n",
       "    <tr>\n",
       "      <th>2</th>\n",
       "      <td>6730886</td>\n",
       "      <td>80620016</td>\n",
       "      <td>D</td>\n",
       "      <td>1</td>\n",
       "      <td>NaN</td>\n",
       "      <td>HEALTHCARE PROFESSIONAL REPORTED A LEFT SIDE D...</td>\n",
       "    </tr>\n",
       "    <tr>\n",
       "      <th>3</th>\n",
       "      <td>6730886</td>\n",
       "      <td>80620015</td>\n",
       "      <td>N</td>\n",
       "      <td>1</td>\n",
       "      <td>NaN</td>\n",
       "      <td>DEVICE EVALUATION: VISUAL ANALYSIS OF THE RETU...</td>\n",
       "    </tr>\n",
       "    <tr>\n",
       "      <th>4</th>\n",
       "      <td>6730886</td>\n",
       "      <td>80620015</td>\n",
       "      <td>N</td>\n",
       "      <td>1</td>\n",
       "      <td>NaN</td>\n",
       "      <td>DEVICE EVALUATION: VISUAL ANALYSIS OF THE RETU...</td>\n",
       "    </tr>\n",
       "  </tbody>\n",
       "</table>\n",
       "</div>"
      ],
      "text/plain": [
       "   MDR_REPORT_KEY  MDR_TEXT_KEY TEXT_TYPE_CODE  PATIENT_SEQUENCE_NUMBER  \\\n",
       "0         6730886      80620016              D                        1   \n",
       "1         6730886      80620016              D                        1   \n",
       "2         6730886      80620016              D                        1   \n",
       "3         6730886      80620015              N                        1   \n",
       "4         6730886      80620015              N                        1   \n",
       "\n",
       "   DATE_REPORT                                           FOI_TEXT  \n",
       "0          NaN  HEALTHCARE PROFESSIONAL REPORTED A LEFT SIDE D...  \n",
       "1          NaN  HEALTHCARE PROFESSIONAL REPORTED A LEFT SIDE D...  \n",
       "2          NaN  HEALTHCARE PROFESSIONAL REPORTED A LEFT SIDE D...  \n",
       "3          NaN  DEVICE EVALUATION: VISUAL ANALYSIS OF THE RETU...  \n",
       "4          NaN  DEVICE EVALUATION: VISUAL ANALYSIS OF THE RETU...  "
      ]
     },
     "execution_count": 62,
     "metadata": {},
     "output_type": "execute_result"
    }
   ],
   "source": [
    "FOI_TEXT_LIST = ['', 'Add', 'Change', 'thru1995']\n",
    "for i in range(1996, 2017):\n",
    "    FOI_TEXT_LIST.append(str(i))\n",
    "\n",
    "df_BI = pd.DataFrame(df_BI_DEV['MDR_REPORT_KEY'])\n",
    "df_BI_TEXT = pd.DataFrame()\n",
    "for s in FOI_TEXT_LIST:\n",
    "    df = pd.read_csv('foitext/foitext'+s+'.txt', sep='|', header=0, encoding='ISO-8859-1', error_bad_lines=False)\n",
    "    temp = df.merge(df_BI, on=['MDR_REPORT_KEY'], how='inner')\n",
    "    df_BI_TEXT = pd.concat([df_BI_TEXT, temp], axis=0)\n",
    "    del temp\n",
    "\n",
    "print(df_BI_TEXT.shape[0])\n",
    "df_BI_TEXT.head()"
   ]
  },
  {
   "cell_type": "code",
   "execution_count": 63,
   "metadata": {},
   "outputs": [
    {
     "name": "stdout",
     "output_type": "stream",
     "text": [
      "27137\n"
     ]
    },
    {
     "data": {
      "text/html": [
       "<div>\n",
       "<table border=\"1\" class=\"dataframe\">\n",
       "  <thead>\n",
       "    <tr style=\"text-align: right;\">\n",
       "      <th></th>\n",
       "      <th>MDR_REPORT_KEY</th>\n",
       "      <th>MDR_TEXT_KEY</th>\n",
       "      <th>TEXT_TYPE_CODE</th>\n",
       "      <th>PATIENT_SEQUENCE_NUMBER</th>\n",
       "      <th>DATE_REPORT</th>\n",
       "      <th>FOI_TEXT</th>\n",
       "    </tr>\n",
       "  </thead>\n",
       "  <tbody>\n",
       "    <tr>\n",
       "      <th>0</th>\n",
       "      <td>6730886</td>\n",
       "      <td>80620016</td>\n",
       "      <td>D</td>\n",
       "      <td>1</td>\n",
       "      <td>NaN</td>\n",
       "      <td>HEALTHCARE PROFESSIONAL REPORTED A LEFT SIDE D...</td>\n",
       "    </tr>\n",
       "    <tr>\n",
       "      <th>3</th>\n",
       "      <td>6730886</td>\n",
       "      <td>80620015</td>\n",
       "      <td>N</td>\n",
       "      <td>1</td>\n",
       "      <td>NaN</td>\n",
       "      <td>DEVICE EVALUATION: VISUAL ANALYSIS OF THE RETU...</td>\n",
       "    </tr>\n",
       "    <tr>\n",
       "      <th>6</th>\n",
       "      <td>6734192</td>\n",
       "      <td>80750975</td>\n",
       "      <td>N</td>\n",
       "      <td>1</td>\n",
       "      <td>NaN</td>\n",
       "      <td>THE DEVICE REMAINS IMPLANTED. A REVIEW OF THE ...</td>\n",
       "    </tr>\n",
       "    <tr>\n",
       "      <th>9</th>\n",
       "      <td>6734192</td>\n",
       "      <td>80750976</td>\n",
       "      <td>D</td>\n",
       "      <td>1</td>\n",
       "      <td>NaN</td>\n",
       "      <td>PATIENT REPORTED THAT THE LEFT SIDE \"HAS COLLA...</td>\n",
       "    </tr>\n",
       "    <tr>\n",
       "      <th>12</th>\n",
       "      <td>6283766</td>\n",
       "      <td>66229409</td>\n",
       "      <td>D</td>\n",
       "      <td>1</td>\n",
       "      <td>NaN</td>\n",
       "      <td>DEFLATION RESULTING IN EXPLANTATION.</td>\n",
       "    </tr>\n",
       "  </tbody>\n",
       "</table>\n",
       "</div>"
      ],
      "text/plain": [
       "    MDR_REPORT_KEY  MDR_TEXT_KEY TEXT_TYPE_CODE  PATIENT_SEQUENCE_NUMBER  \\\n",
       "0          6730886      80620016              D                        1   \n",
       "3          6730886      80620015              N                        1   \n",
       "6          6734192      80750975              N                        1   \n",
       "9          6734192      80750976              D                        1   \n",
       "12         6283766      66229409              D                        1   \n",
       "\n",
       "    DATE_REPORT                                           FOI_TEXT  \n",
       "0           NaN  HEALTHCARE PROFESSIONAL REPORTED A LEFT SIDE D...  \n",
       "3           NaN  DEVICE EVALUATION: VISUAL ANALYSIS OF THE RETU...  \n",
       "6           NaN  THE DEVICE REMAINS IMPLANTED. A REVIEW OF THE ...  \n",
       "9           NaN  PATIENT REPORTED THAT THE LEFT SIDE \"HAS COLLA...  \n",
       "12          NaN               DEFLATION RESULTING IN EXPLANTATION.  "
      ]
     },
     "execution_count": 63,
     "metadata": {},
     "output_type": "execute_result"
    }
   ],
   "source": [
    "df_BI_TEXT = df_BI_TEXT.drop_duplicates('MDR_TEXT_KEY')\n",
    "print(df_BI_TEXT.shape[0])\n",
    "df_BI_TEXT.to_csv('WF/TEXT_FULL_BI_LIST.txt', header=True, index=False, sep='|')\n",
    "df_BI_TEXT.head()"
   ]
  },
  {
   "cell_type": "code",
   "execution_count": 71,
   "metadata": {
    "collapsed": true
   },
   "outputs": [],
   "source": [
    "punctuations = '''!()[]{};:'\"\\,<>./?@#$%^&*_~'''\n",
    "\n",
    "def processing_text(s):\n",
    "    s = str(s)\n",
    "    no_punct = \"\"\n",
    "    for char in s:\n",
    "        if char not in punctuations:\n",
    "            no_punct = no_punct + char\n",
    "    l = no_punct.split(' ')\n",
    "    output = []\n",
    "    for w in l:\n",
    "        if (w in stopwords) or (w.isdigit()):\n",
    "            continue\n",
    "        output.append(w)\n",
    "    return ' '.join(output)"
   ]
  },
  {
   "cell_type": "code",
   "execution_count": 72,
   "metadata": {},
   "outputs": [
    {
     "data": {
      "text/plain": [
       "0    HEALTHCARE PROFESSIONAL REPORTED A LEFT SIDE D...\n",
       "1    DEVICE EVALUATION VISUAL ANALYSIS OF THE RETUR...\n",
       "2    THE DEVICE REMAINS IMPLANTED A REVIEW OF THE D...\n",
       "3    PATIENT REPORTED THAT THE LEFT SIDE HAS COLLAP...\n",
       "4                  DEFLATION RESULTING IN EXPLANTATION\n",
       "Name: FOI_TEXT, dtype: object"
      ]
     },
     "execution_count": 72,
     "metadata": {},
     "output_type": "execute_result"
    }
   ],
   "source": [
    "df_BI_TEXT['FOI_TEXT'] = df_BI_TEXT['FOI_TEXT'].map(processing_text)\n",
    "df_BI_TEXT['FOI_TEXT'].head()"
   ]
  },
  {
   "cell_type": "code",
   "execution_count": 93,
   "metadata": {},
   "outputs": [
    {
     "name": "stdout",
     "output_type": "stream",
     "text": [
      "Fill type word frequecy:\n",
      "\n",
      "SALINE : 3309\n",
      "SILICONE : 8184\n",
      "GEL : 5113\n",
      "COHESIVE : 74\n"
     ]
    }
   ],
   "source": [
    "print('Fill type word frequecy:\\n')\n",
    "for m in fill_type:\n",
    "    counter = 0\n",
    "    fh = open('WF/fill_type/'+m+'.txt', 'w')\n",
    "    for index, value in df_BI_TEXT.iterrows():\n",
    "        l = str(value['FOI_TEXT']).split(' ')\n",
    "        if m in l:\n",
    "            fh.write(str(value['MDR_REPORT_KEY']) + '\\n')\n",
    "            counter += 1\n",
    "    print(m, ':', counter)\n",
    "    fh.close()"
   ]
  },
  {
   "cell_type": "code",
   "execution_count": 75,
   "metadata": {},
   "outputs": [
    {
     "name": "stdout",
     "output_type": "stream",
     "text": [
      "Surface type word frequecy:\n",
      "\n",
      "SMOOTH : 372\n",
      "TEXTURED : 244\n",
      "BIOCELL : 17\n"
     ]
    }
   ],
   "source": [
    "print('Surface type word frequecy:\\n')\n",
    "for m in surface_type:\n",
    "    counter = 0\n",
    "    fh = open('WF/surface_type/'+m+'.txt', 'w')\n",
    "    for index, value in df_BI_TEXT.iterrows():\n",
    "        l = str(value['FOI_TEXT']).split(' ')\n",
    "        if m in l:\n",
    "            fh.write(str(value['MDR_REPORT_KEY']) + '\\n')\n",
    "            counter += 1\n",
    "    print(m, ':', counter)\n",
    "    fh.close()"
   ]
  },
  {
   "cell_type": "code",
   "execution_count": 76,
   "metadata": {},
   "outputs": [
    {
     "name": "stdout",
     "output_type": "stream",
     "text": [
      "Implantation indication word frequecy:\n",
      "\n",
      "AUGMENTATION : 1795\n",
      "RECONSTRUCTION : 981\n",
      "COSMETIC : 226\n"
     ]
    }
   ],
   "source": [
    "print('Implantation indication word frequecy:\\n')\n",
    "for m in implantation_indication:\n",
    "    counter = 0\n",
    "    fh = open('WF/implantation_indication/'+m+'.txt', 'w')\n",
    "    for index, value in df_BI_TEXT.iterrows():\n",
    "        l = str(value['FOI_TEXT']).split(' ')\n",
    "        if m in l:\n",
    "            fh.write(str(value['MDR_REPORT_KEY']) + '\\n')\n",
    "            counter += 1\n",
    "    print(m, ':', counter)\n",
    "    fh.close()"
   ]
  },
  {
   "cell_type": "code",
   "execution_count": 84,
   "metadata": {},
   "outputs": [
    {
     "name": "stdout",
     "output_type": "stream",
     "text": [
      "ALCL word frequecy:\n",
      "\n",
      "ALCL : 875\n",
      "ANAPLASTIC LARGE CELL LYMPHOMA : 471\n",
      "LYMPHOMA : 1033\n",
      "T-CELL LYMPHOMA : 73\n",
      "B-CELL LYMPHOMA : 1\n"
     ]
    }
   ],
   "source": [
    "print('ALCL word frequecy:\\n')\n",
    "for m in ALCL:\n",
    "    counter = 0\n",
    "    fh = open('WF/ALCL/'+m+'.txt', 'w')\n",
    "    for index, value in df_BI_TEXT.iterrows():\n",
    "        if m in str(value['FOI_TEXT']):\n",
    "            fh.write(str(value['MDR_REPORT_KEY']) + '\\n')\n",
    "            counter += 1\n",
    "    print(m, ':', counter)\n",
    "    fh.close()"
   ]
  },
  {
   "cell_type": "code",
   "execution_count": 87,
   "metadata": {},
   "outputs": [
    {
     "name": "stdout",
     "output_type": "stream",
     "text": [
      "Side word frequecy:\n",
      "\n",
      "LEFT : 6543\n",
      "RIGHT : 6609\n"
     ]
    }
   ],
   "source": [
    "print('Side word frequecy:\\n')\n",
    "for m in side:\n",
    "    counter = 0\n",
    "    fh = open('WF/side/'+m+'.txt', 'w')\n",
    "    for index, value in df_BI_TEXT.iterrows():\n",
    "        if m in str(value['FOI_TEXT']):\n",
    "            fh.write(str(value['MDR_REPORT_KEY']) + '\\n')\n",
    "            counter += 1\n",
    "    print(m, ':', counter)\n",
    "    fh.close()"
   ]
  },
  {
   "cell_type": "code",
   "execution_count": 89,
   "metadata": {},
   "outputs": [
    {
     "name": "stdout",
     "output_type": "stream",
     "text": [
      "Symptom word frequecy:\n",
      "\n",
      "BREAST PAIN : 706\n",
      "BREAST SWELLING : 35\n",
      "BREAST CYST : 5\n",
      "BREAST CALCIFICATION : 3\n",
      "CAPSULAR CONTRACTURE : 2979\n",
      "LYMPH NODE ENLARGEMENT : 3\n",
      "FIRMNESS OF BREASTHEMATOMA : 0\n",
      "MASS : 594\n",
      "LUMP : 674\n",
      "RUPTURE : 6573\n",
      "DEFLATED : 1125\n",
      "INFECTION : 1890\n",
      "ABSCESS : 45\n",
      "LEUKOPENIA : 2\n",
      "NODULES : 76\n",
      "SKIN DISCOLORATION : 10\n",
      "SKIN LESION : 17\n",
      "SEROMA : 1125\n",
      "EFFUSION : 45\n",
      "FLUID : 637\n"
     ]
    }
   ],
   "source": [
    "print('Symptom word frequecy:\\n')\n",
    "for m in symptom:\n",
    "    m = m.upper()\n",
    "    counter = 0\n",
    "    fh = open('WF/symptom/'+m+'.txt', 'w')\n",
    "    for index, value in df_BI_TEXT.iterrows():\n",
    "        if m in str(value['FOI_TEXT']):\n",
    "            fh.write(str(value['MDR_REPORT_KEY']) + '\\n')\n",
    "            counter += 1\n",
    "    print(m, ':', counter)\n",
    "    fh.close()"
   ]
  },
  {
   "cell_type": "code",
   "execution_count": 95,
   "metadata": {},
   "outputs": [
    {
     "name": "stderr",
     "output_type": "stream",
     "text": [
      "/Library/Frameworks/Python.framework/Versions/3.6/lib/python3.6/site-packages/ipykernel_launcher.py:1: SettingWithCopyWarning: \n",
      "A value is trying to be set on a copy of a slice from a DataFrame.\n",
      "Try using .loc[row_indexer,col_indexer] = value instead\n",
      "\n",
      "See the caveats in the documentation: http://pandas.pydata.org/pandas-docs/stable/indexing.html#indexing-view-versus-copy\n",
      "  \"\"\"Entry point for launching an IPython kernel.\n"
     ]
    },
    {
     "data": {
      "text/plain": [
       "887                                       BREAST IMPLANTS\n",
       "888                                       BREAST IMPLANTS\n",
       "1705    SALINESILICONE BREAST IMPLANT RIGHT AND LEFT U...\n",
       "2263                   STYLE SALINE FILLED BREAST IMPLANT\n",
       "2327                   STYLE SALINE FILLED BREAST IMPLANT\n",
       "Name: BRAND_NAME, dtype: object"
      ]
     },
     "execution_count": 95,
     "metadata": {},
     "output_type": "execute_result"
    }
   ],
   "source": [
    "df_BI_DEV['BRAND_NAME'] = df_BI_DEV['BRAND_NAME'].map(processing_text)\n",
    "df_BI_DEV['BRAND_NAME'].head()"
   ]
  },
  {
   "cell_type": "code",
   "execution_count": 101,
   "metadata": {},
   "outputs": [
    {
     "name": "stdout",
     "output_type": "stream",
     "text": [
      "Surface type word frequecy (brand name):\n",
      "\n",
      "SMOOTH : 808\n",
      "TEXTURED : 406\n",
      "BIOCELL : 53\n"
     ]
    }
   ],
   "source": [
    "print('Surface type word frequecy (brand name):\\n')\n",
    "for m in surface_type:\n",
    "    counter = 0\n",
    "    fh = open('WF/surface_type_BRAND_NAME/'+m+'.txt', 'w')\n",
    "    for index, value in df_BI_DEV.iterrows():\n",
    "        if m in str(value['BRAND_NAME']):\n",
    "            fh.write(str(value['MDR_REPORT_KEY']) + '\\n')\n",
    "            counter += 1\n",
    "    print(m, ':', counter)\n",
    "    fh.close()"
   ]
  },
  {
   "cell_type": "code",
   "execution_count": 102,
   "metadata": {},
   "outputs": [
    {
     "name": "stdout",
     "output_type": "stream",
     "text": [
      "Fill type word frequecy (brand name):\n",
      "\n",
      "SALINE : 3711\n",
      "SILICONE : 2325\n",
      "GEL : 4884\n",
      "COHESIVE : 160\n"
     ]
    }
   ],
   "source": [
    "print('Fill type word frequecy (brand name):\\n')\n",
    "for m in fill_type:\n",
    "    counter = 0\n",
    "    fh = open('WF/fill_type_BRAND_NAME/'+m+'.txt', 'w')\n",
    "    for index, value in df_BI_DEV.iterrows():\n",
    "        if m in str(value['BRAND_NAME']):\n",
    "            fh.write(str(value['MDR_REPORT_KEY']) + '\\n')\n",
    "            counter += 1\n",
    "    print(m, ':', counter)\n",
    "    fh.close()"
   ]
  },
  {
   "cell_type": "code",
   "execution_count": 103,
   "metadata": {},
   "outputs": [
    {
     "name": "stdout",
     "output_type": "stream",
     "text": [
      "Surface type word frequecy (generic name):\n",
      "\n",
      "SMOOTH : 164\n",
      "TEXTURED : 379\n",
      "BIOCELL : 8\n"
     ]
    }
   ],
   "source": [
    "print('Surface type word frequecy (generic name):\\n')\n",
    "for m in surface_type:\n",
    "    counter = 0\n",
    "    fh = open('WF/surface_type_GENERIC_NAME/'+m+'.txt', 'w')\n",
    "    for index, value in df_BI_DEV.iterrows():\n",
    "        if m in str(value['GENERIC_NAME']):\n",
    "            fh.write(str(value['MDR_REPORT_KEY']) + '\\n')\n",
    "            counter += 1\n",
    "    print(m, ':', counter)\n",
    "    fh.close()"
   ]
  },
  {
   "cell_type": "code",
   "execution_count": 104,
   "metadata": {},
   "outputs": [
    {
     "name": "stdout",
     "output_type": "stream",
     "text": [
      "Fill type word frequecy (generic name):\n",
      "\n",
      "SALINE : 5217\n",
      "SILICONE : 3704\n",
      "GEL : 4932\n",
      "COHESIVE : 28\n"
     ]
    }
   ],
   "source": [
    "print('Fill type word frequecy (generic name):\\n')\n",
    "for m in fill_type:\n",
    "    counter = 0\n",
    "    fh = open('WF/fill_type_GENERIC_NAME/'+m+'.txt', 'w')\n",
    "    for index, value in df_BI_DEV.iterrows():\n",
    "        if m in str(value['GENERIC_NAME']):\n",
    "            fh.write(str(value['MDR_REPORT_KEY']) + '\\n')\n",
    "            counter += 1\n",
    "    print(m, ':', counter)\n",
    "    fh.close()"
   ]
  },
  {
   "cell_type": "markdown",
   "metadata": {
    "collapsed": true
   },
   "source": [
    "## Read BI text file again..."
   ]
  },
  {
   "cell_type": "code",
   "execution_count": 12,
   "metadata": {},
   "outputs": [
    {
     "name": "stdout",
     "output_type": "stream",
     "text": [
      "27137\n"
     ]
    },
    {
     "data": {
      "text/plain": [
       "0     [healthcare, professional, reported, left, sid...\n",
       "1     [device, evaluation, visual, analysis, returne...\n",
       "2     [device, remains, implanted, review, device, h...\n",
       "3     [patient, reported, left, side, collapsed, add...\n",
       "4                  [deflation, resulting, explantation]\n",
       "5                                                    []\n",
       "6     [breast, augmentation, since, day, suffered, f...\n",
       "7     [therapeutic, good, administration, reported, ...\n",
       "8     [event, lymphoma, physiological, complication,...\n",
       "9     [review, device, history, record, completed, d...\n",
       "10    [healthcare, professional, reported, right, si...\n",
       "11    [healthcare, professional, reported, left, sid...\n",
       "12    [review, device, history, record, completed, d...\n",
       "13    [device, received, analysis, time, submission,...\n",
       "14    [reported, patient, suffered, bodily, injury, ...\n",
       "15    [health, professional, reported, right, side, ...\n",
       "16    [review, device, history, record, completed, d...\n",
       "17    [article, citation, two, stage, implant, based...\n",
       "18    [article, two, stage, implant, based, breast, ...\n",
       "19    [article, two, stage, implant, based, breast, ...\n",
       "Name: FOI_TEXT, dtype: object"
      ]
     },
     "execution_count": 12,
     "metadata": {},
     "output_type": "execute_result"
    }
   ],
   "source": [
    "df_BI_TEXT = pd.read_csv('WF/TEXT_FULL_BI_LIST.txt', header=0, sep='|', encoding='ISO-8859-1', error_bad_lines=False)\n",
    "df_BI_TEXT['FOI_TEXT'] = df_BI_TEXT['FOI_TEXT'].astype(str)\n",
    "df_BI_TEXT = df_BI_TEXT.drop_duplicates('MDR_TEXT_KEY')\n",
    "df_BI_TEXT['FOI_TEXT'] = df_BI_TEXT['FOI_TEXT'].map(processLine)\n",
    "print(df_BI_TEXT.shape[0])\n",
    "df_BI_TEXT['FOI_TEXT'].head(20)"
   ]
  },
  {
   "cell_type": "code",
   "execution_count": 15,
   "metadata": {
    "collapsed": true
   },
   "outputs": [],
   "source": [
    "WL = []\n",
    "for index, value in df_BI_TEXT.iterrows():\n",
    "    WL += value['FOI_TEXT']\n",
    "counter = Counter(WL)\n",
    "with open(\"WF/Word_Cloud.txt\", 'w') as f:\n",
    "    for k,v in  counter.most_common():\n",
    "        f.write( \"{}\\t{}\\n\".format(v,k) )"
   ]
  },
  {
   "cell_type": "code",
   "execution_count": 17,
   "metadata": {},
   "outputs": [],
   "source": [
    "with open('WF/whole_text.txt', 'w') as f:\n",
    "    for index, value in df_BI_TEXT.iterrows():\n",
    "        for i in value['FOI_TEXT']:\n",
    "            f.write(i + ' ')\n",
    "        f.write('\\n')"
   ]
  },
  {
   "cell_type": "code",
   "execution_count": null,
   "metadata": {
    "collapsed": true
   },
   "outputs": [],
   "source": []
  }
 ],
 "metadata": {
  "kernelspec": {
   "display_name": "Python 3",
   "language": "python",
   "name": "python3"
  },
  "language_info": {
   "codemirror_mode": {
    "name": "ipython",
    "version": 3
   },
   "file_extension": ".py",
   "mimetype": "text/x-python",
   "name": "python",
   "nbconvert_exporter": "python",
   "pygments_lexer": "ipython3",
   "version": "3.6.2"
  }
 },
 "nbformat": 4,
 "nbformat_minor": 2
}
