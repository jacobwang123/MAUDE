{
 "cells": [
  {
   "cell_type": "code",
   "execution_count": 1,
   "metadata": {
    "collapsed": false
   },
   "outputs": [],
   "source": [
    "%matplotlib inline\n",
    "import pandas as pd\n",
    "import numpy as np\n",
    "import matplotlib.pyplot as plt\n",
    "import seaborn as sns\n",
    "from datetime import datetime\n",
    "\n",
    "df_DEV = pd.read_csv('DEV_BI.txt', sep='|', header=0, encoding='ISO-8859-1', error_bad_lines=False)"
   ]
  },
  {
   "cell_type": "code",
   "execution_count": 2,
   "metadata": {
    "collapsed": true
   },
   "outputs": [],
   "source": [
    "def slice(d):\n",
    "    if (d < datetime(year=1994, month=1, day=1)) | (d >= datetime(year=2017, month=2, day=1)):\n",
    "        return True\n",
    "    else:\n",
    "        return False"
   ]
  },
  {
   "cell_type": "code",
   "execution_count": 3,
   "metadata": {
    "collapsed": false
   },
   "outputs": [
    {
     "data": {
      "text/html": [
       "<div>\n",
       "<style>\n",
       "    .dataframe thead tr:only-child th {\n",
       "        text-align: right;\n",
       "    }\n",
       "\n",
       "    .dataframe thead th {\n",
       "        text-align: left;\n",
       "    }\n",
       "\n",
       "    .dataframe tbody tr th {\n",
       "        vertical-align: top;\n",
       "    }\n",
       "</style>\n",
       "<table border=\"1\" class=\"dataframe\">\n",
       "  <thead>\n",
       "    <tr style=\"text-align: right;\">\n",
       "      <th></th>\n",
       "      <th>MDR_REPORT_KEY</th>\n",
       "      <th>DEVICE_EVENT_KEY</th>\n",
       "      <th>IMPLANT_FLAG</th>\n",
       "      <th>DATE_REMOVED_FLAG</th>\n",
       "      <th>DEVICE_SEQUENCE_NO</th>\n",
       "      <th>DATE_RECEIVED</th>\n",
       "      <th>BRAND_NAME</th>\n",
       "      <th>GENERIC_NAME</th>\n",
       "      <th>MANUFACTURER_D_NAME</th>\n",
       "      <th>MANUFACTURER_D_ADDRESS_1</th>\n",
       "      <th>...</th>\n",
       "      <th>MODEL_NUMBER</th>\n",
       "      <th>CATALOG_NUMBER</th>\n",
       "      <th>LOT_NUMBER</th>\n",
       "      <th>OTHER_ID_NUMBER</th>\n",
       "      <th>DEVICE_OPERATOR</th>\n",
       "      <th>DEVICE_AVAILABILITY</th>\n",
       "      <th>DATE_RETURNED_TO_MANUFACTURER</th>\n",
       "      <th>DEVICE_REPORT_PRODUCT_CODE</th>\n",
       "      <th>DEVICE_AGE_TEXT</th>\n",
       "      <th>DEVICE_EVALUATED_BY_MANUFACTUR</th>\n",
       "    </tr>\n",
       "  </thead>\n",
       "  <tbody>\n",
       "    <tr>\n",
       "      <th>0</th>\n",
       "      <td>140208</td>\n",
       "      <td>136879.0</td>\n",
       "      <td>Y</td>\n",
       "      <td>V</td>\n",
       "      <td>1.0</td>\n",
       "      <td>1997-12-22</td>\n",
       "      <td>MAMMARY PROSTHESIS</td>\n",
       "      <td>BREAST IMPLANT</td>\n",
       "      <td>AMERICAN HEYER-SCHULTE</td>\n",
       "      <td>600 PINE AVE.</td>\n",
       "      <td>...</td>\n",
       "      <td>UNK</td>\n",
       "      <td>UNK</td>\n",
       "      <td>UNK</td>\n",
       "      <td>NaN</td>\n",
       "      <td>0HP</td>\n",
       "      <td>N</td>\n",
       "      <td>NaN</td>\n",
       "      <td>FTR</td>\n",
       "      <td>UNKNOWN</td>\n",
       "      <td>R</td>\n",
       "    </tr>\n",
       "    <tr>\n",
       "      <th>1</th>\n",
       "      <td>140205</td>\n",
       "      <td>136876.0</td>\n",
       "      <td>Y</td>\n",
       "      <td>U</td>\n",
       "      <td>1.0</td>\n",
       "      <td>1997-12-22</td>\n",
       "      <td>MAMMARY PROSTHESIS</td>\n",
       "      <td>BREAST IMPLANT</td>\n",
       "      <td>AMERICAN HEYER-SCHULTE</td>\n",
       "      <td>600 PINE AVE.</td>\n",
       "      <td>...</td>\n",
       "      <td>UNK</td>\n",
       "      <td>UNK</td>\n",
       "      <td>UNK</td>\n",
       "      <td>NaN</td>\n",
       "      <td>0HP</td>\n",
       "      <td>N</td>\n",
       "      <td>NaN</td>\n",
       "      <td>FTR</td>\n",
       "      <td>UNKNOWN</td>\n",
       "      <td>R</td>\n",
       "    </tr>\n",
       "    <tr>\n",
       "      <th>2</th>\n",
       "      <td>140202</td>\n",
       "      <td>136873.0</td>\n",
       "      <td>Y</td>\n",
       "      <td>U</td>\n",
       "      <td>1.0</td>\n",
       "      <td>1997-12-22</td>\n",
       "      <td>MAMMARY PROSTHESIS</td>\n",
       "      <td>BREAST IMPLANT</td>\n",
       "      <td>AMERICAN HEYER-SCHULTE</td>\n",
       "      <td>600 PINE AVE.</td>\n",
       "      <td>...</td>\n",
       "      <td>UNK</td>\n",
       "      <td>UNK</td>\n",
       "      <td>UNK</td>\n",
       "      <td>NaN</td>\n",
       "      <td>0HP</td>\n",
       "      <td>N</td>\n",
       "      <td>NaN</td>\n",
       "      <td>FTR</td>\n",
       "      <td>UNKNOWN</td>\n",
       "      <td>R</td>\n",
       "    </tr>\n",
       "    <tr>\n",
       "      <th>3</th>\n",
       "      <td>140199</td>\n",
       "      <td>136870.0</td>\n",
       "      <td>Y</td>\n",
       "      <td>U</td>\n",
       "      <td>1.0</td>\n",
       "      <td>1997-12-22</td>\n",
       "      <td>GEL-FILLED MAMMARY PROSTHESIS</td>\n",
       "      <td>BREAST IMPLANT</td>\n",
       "      <td>AMERICAN HEYER-SCHULTE</td>\n",
       "      <td>600 PINE AVE.</td>\n",
       "      <td>...</td>\n",
       "      <td>STYLE 7000</td>\n",
       "      <td>350-7250</td>\n",
       "      <td>214566</td>\n",
       "      <td>NaN</td>\n",
       "      <td>0HP</td>\n",
       "      <td>N</td>\n",
       "      <td>NaN</td>\n",
       "      <td>FTR</td>\n",
       "      <td>UNKNOWN</td>\n",
       "      <td>R</td>\n",
       "    </tr>\n",
       "    <tr>\n",
       "      <th>4</th>\n",
       "      <td>140196</td>\n",
       "      <td>136867.0</td>\n",
       "      <td>Y</td>\n",
       "      <td>U</td>\n",
       "      <td>1.0</td>\n",
       "      <td>1997-12-22</td>\n",
       "      <td>GEL-FILLED MAMMARY PROSTHESIS</td>\n",
       "      <td>BREAST IMPLANT</td>\n",
       "      <td>AMERICAN HEYER-SCHULTE</td>\n",
       "      <td>600 PINE AVE.</td>\n",
       "      <td>...</td>\n",
       "      <td>STYLE 7000</td>\n",
       "      <td>350-7325</td>\n",
       "      <td>172100</td>\n",
       "      <td>NaN</td>\n",
       "      <td>0HP</td>\n",
       "      <td>N</td>\n",
       "      <td>NaN</td>\n",
       "      <td>FTR</td>\n",
       "      <td>UNKNOWN</td>\n",
       "      <td>R</td>\n",
       "    </tr>\n",
       "  </tbody>\n",
       "</table>\n",
       "<p>5 rows × 28 columns</p>\n",
       "</div>"
      ],
      "text/plain": [
       "   MDR_REPORT_KEY  DEVICE_EVENT_KEY IMPLANT_FLAG DATE_REMOVED_FLAG  \\\n",
       "0          140208          136879.0            Y                 V   \n",
       "1          140205          136876.0            Y                 U   \n",
       "2          140202          136873.0            Y                 U   \n",
       "3          140199          136870.0            Y                 U   \n",
       "4          140196          136867.0            Y                 U   \n",
       "\n",
       "   DEVICE_SEQUENCE_NO DATE_RECEIVED                     BRAND_NAME  \\\n",
       "0                 1.0    1997-12-22             MAMMARY PROSTHESIS   \n",
       "1                 1.0    1997-12-22             MAMMARY PROSTHESIS   \n",
       "2                 1.0    1997-12-22             MAMMARY PROSTHESIS   \n",
       "3                 1.0    1997-12-22  GEL-FILLED MAMMARY PROSTHESIS   \n",
       "4                 1.0    1997-12-22  GEL-FILLED MAMMARY PROSTHESIS   \n",
       "\n",
       "     GENERIC_NAME     MANUFACTURER_D_NAME MANUFACTURER_D_ADDRESS_1  \\\n",
       "0  BREAST IMPLANT  AMERICAN HEYER-SCHULTE            600 PINE AVE.   \n",
       "1  BREAST IMPLANT  AMERICAN HEYER-SCHULTE            600 PINE AVE.   \n",
       "2  BREAST IMPLANT  AMERICAN HEYER-SCHULTE            600 PINE AVE.   \n",
       "3  BREAST IMPLANT  AMERICAN HEYER-SCHULTE            600 PINE AVE.   \n",
       "4  BREAST IMPLANT  AMERICAN HEYER-SCHULTE            600 PINE AVE.   \n",
       "\n",
       "               ...               MODEL_NUMBER CATALOG_NUMBER LOT_NUMBER  \\\n",
       "0              ...                        UNK            UNK        UNK   \n",
       "1              ...                        UNK            UNK        UNK   \n",
       "2              ...                        UNK            UNK        UNK   \n",
       "3              ...                 STYLE 7000       350-7250     214566   \n",
       "4              ...                 STYLE 7000       350-7325     172100   \n",
       "\n",
       "  OTHER_ID_NUMBER DEVICE_OPERATOR DEVICE_AVAILABILITY  \\\n",
       "0             NaN             0HP                   N   \n",
       "1             NaN             0HP                   N   \n",
       "2             NaN             0HP                   N   \n",
       "3             NaN             0HP                   N   \n",
       "4             NaN             0HP                   N   \n",
       "\n",
       "  DATE_RETURNED_TO_MANUFACTURER DEVICE_REPORT_PRODUCT_CODE DEVICE_AGE_TEXT  \\\n",
       "0                           NaN                        FTR         UNKNOWN   \n",
       "1                           NaN                        FTR         UNKNOWN   \n",
       "2                           NaN                        FTR         UNKNOWN   \n",
       "3                           NaN                        FTR         UNKNOWN   \n",
       "4                           NaN                        FTR         UNKNOWN   \n",
       "\n",
       "  DEVICE_EVALUATED_BY_MANUFACTUR  \n",
       "0                              R  \n",
       "1                              R  \n",
       "2                              R  \n",
       "3                              R  \n",
       "4                              R  \n",
       "\n",
       "[5 rows x 28 columns]"
      ]
     },
     "execution_count": 3,
     "metadata": {},
     "output_type": "execute_result"
    }
   ],
   "source": [
    "df_DEV['DATE_RECEIVED'] = pd.to_datetime(df_DEV['DATE_RECEIVED'])\n",
    "df_DEV['filter'] = df_DEV['DATE_RECEIVED'].map(slice)\n",
    "df_DEV = df_DEV.loc[df_DEV['filter']==False, :]\n",
    "del df_DEV['filter']\n",
    "df_DEV.head()"
   ]
  },
  {
   "cell_type": "code",
   "execution_count": 4,
   "metadata": {
    "collapsed": false
   },
   "outputs": [
    {
     "name": "stdout",
     "output_type": "stream",
     "text": [
      "In the device data related to breast implant, there are 27594 records in total.\n",
      "\n",
      "MDR_REPORT_KEY missing : 0 out of 27594 , 0.0\n",
      "DEVICE_EVENT_KEY missing : 3103 out of 27594 , 0.112451982315\n",
      "IMPLANT_FLAG missing : 3103 out of 27594 , 0.112451982315\n",
      "DATE_REMOVED_FLAG missing : 5084 out of 27594 , 0.184242951366\n",
      "DEVICE_SEQUENCE_NO missing : 0 out of 27594 , 0.0\n",
      "DATE_RECEIVED missing : 0 out of 27594 , 0.0\n",
      "BRAND_NAME missing : 1673 out of 27594 , 0.060629122273\n",
      "GENERIC_NAME missing : 2729 out of 27594 , 0.0988983112271\n",
      "MANUFACTURER_D_NAME missing : 1877 out of 27594 , 0.0680220337755\n",
      "MANUFACTURER_D_ADDRESS_1 missing : 7321 out of 27594 , 0.265311299558\n",
      "MANUFACTURER_D_ADDRESS_2 missing : 23880 out of 27594 , 0.86540552294\n",
      "MANUFACTURER_D_CITY missing : 4625 out of 27594 , 0.167608900486\n",
      "MANUFACTURER_D_STATE_CODE missing : 12778 out of 27594 , 0.46307168225\n",
      "MANUFACTURER_D_ZIP_CODE missing : 13185 out of 27594 , 0.477821265492\n",
      "MANUFACTURER_D_ZIP_CODE_EXT missing : 26028 out of 27594 , 0.94324853229\n",
      "MANUFACTURER_D_COUNTRY_CODE missing : 3722 out of 27594 , 0.134884395158\n",
      "MANUFACTURER_D_POSTAL_CODE missing : 24269 out of 27594 , 0.879502790462\n",
      "EXPIRATION_DATE_OF_DEVICE missing : 27027 out of 27594 , 0.979452054795\n",
      "MODEL_NUMBER missing : 9345 out of 27594 , 0.338660578387\n",
      "CATALOG_NUMBER missing : 7083 out of 27594 , 0.256686236138\n",
      "LOT_NUMBER missing : 5514 out of 27594 , 0.199826049141\n",
      "OTHER_ID_NUMBER missing : 15184 out of 27594 , 0.550264550265\n",
      "DEVICE_OPERATOR missing : 4802 out of 27594 , 0.174023338407\n",
      "DEVICE_AVAILABILITY missing : 1949 out of 27594 , 0.0706312966587\n",
      "DATE_RETURNED_TO_MANUFACTURER missing : 23851 out of 27594 , 0.864354569834\n",
      "DEVICE_REPORT_PRODUCT_CODE missing : 52 out of 27594 , 0.00188446763789\n",
      "DEVICE_AGE_TEXT missing : 11730 out of 27594 , 0.425092411394\n",
      "DEVICE_EVALUATED_BY_MANUFACTUR missing : 14764 out of 27594 , 0.535043850112\n"
     ]
    }
   ],
   "source": [
    "col_name = list(df_DEV.columns.values)\n",
    "line_num = df_DEV.shape[0]\n",
    "print('In the device data related to breast implant, there are {} records in total.\\n'.format(line_num))\n",
    "for b in col_name:\n",
    "    n = df_DEV[b].isnull().sum()\n",
    "    print(b, 'missing :', n, 'out of', line_num, ',', n/line_num)"
   ]
  },
  {
   "cell_type": "code",
   "execution_count": 5,
   "metadata": {
    "collapsed": false
   },
   "outputs": [
    {
     "name": "stdout",
     "output_type": "stream",
     "text": [
      "MDR_REPORT_KEY unique value : 26544\n",
      "DEVICE_EVENT_KEY unique value : 22738\n",
      "IMPLANT_FLAG unique value : 3\n",
      "DATE_REMOVED_FLAG unique value : 8\n",
      "DEVICE_SEQUENCE_NO unique value : 12\n",
      "DATE_RECEIVED unique value : 4384\n",
      "BRAND_NAME unique value : 3299\n",
      "GENERIC_NAME unique value : 2021\n",
      "MANUFACTURER_D_NAME unique value : 970\n",
      "MANUFACTURER_D_ADDRESS_1 unique value : 657\n",
      "MANUFACTURER_D_ADDRESS_2 unique value : 143\n",
      "MANUFACTURER_D_CITY unique value : 317\n",
      "MANUFACTURER_D_STATE_CODE unique value : 31\n",
      "MANUFACTURER_D_ZIP_CODE unique value : 232\n",
      "MANUFACTURER_D_ZIP_CODE_EXT unique value : 97\n",
      "MANUFACTURER_D_COUNTRY_CODE unique value : 23\n",
      "MANUFACTURER_D_POSTAL_CODE unique value : 112\n",
      "EXPIRATION_DATE_OF_DEVICE unique value : 437\n",
      "MODEL_NUMBER unique value : 1805\n",
      "CATALOG_NUMBER unique value : 2444\n",
      "LOT_NUMBER unique value : 7792\n",
      "OTHER_ID_NUMBER unique value : 850\n",
      "DEVICE_OPERATOR unique value : 14\n",
      "DEVICE_AVAILABILITY unique value : 5\n",
      "DATE_RETURNED_TO_MANUFACTURER unique value : 1314\n",
      "DEVICE_REPORT_PRODUCT_CODE unique value : 146\n",
      "DEVICE_AGE_TEXT unique value : 174\n",
      "DEVICE_EVALUATED_BY_MANUFACTUR unique value : 5\n"
     ]
    }
   ],
   "source": [
    "for b in col_name:\n",
    "    n = df_DEV[b].nunique()\n",
    "    print(b, 'unique value :', n)"
   ]
  },
  {
   "cell_type": "code",
   "execution_count": 21,
   "metadata": {
    "collapsed": false
   },
   "outputs": [
    {
     "name": "stdout",
     "output_type": "stream",
     "text": [
      "Implant flag: whether the device implanted into human body\n"
     ]
    },
    {
     "data": {
      "text/plain": [
       "<matplotlib.axes._subplots.AxesSubplot at 0x10b95be48>"
      ]
     },
     "execution_count": 21,
     "metadata": {},
     "output_type": "execute_result"
    },
    {
     "data": {
      "image/png": "[encoded data removed]",
      "text/plain": [
       "<matplotlib.figure.Figure at 0x10b86d518>"
      ]
     },
     "metadata": {},
     "output_type": "display_data"
    }
   ],
   "source": [
    "df_DEV['IMPLANT_FLAG'] = df_DEV['IMPLANT_FLAG'].astype(str)\n",
    "sns.set_style(\"whitegrid\")\n",
    "print('Implant flag: whether the device implanted into human body')\n",
    "sns.countplot(y='IMPLANT_FLAG', data=df_DEV)"
   ]
  },
  {
   "cell_type": "code",
   "execution_count": 24,
   "metadata": {
    "collapsed": false
   },
   "outputs": [
    {
     "name": "stdout",
     "output_type": "stream",
     "text": [
      "Date removed flag:\n",
      "M or Y = print Date;\n",
      "U = Unknown;\n",
      "A = Not available;\n",
      "I = No information at this time;\n",
      "M = Month and year provided only, day defaults to 01;\n",
      "Y = Year provided only, day defaulted to 01, month defaulted to January\n"
     ]
    },
    {
     "data": {
      "text/plain": [
       "<matplotlib.axes._subplots.AxesSubplot at 0x109fb5668>"
      ]
     },
     "execution_count": 24,
     "metadata": {},
     "output_type": "execute_result"
    },
    {
     "data": {
      "image/png": "[encoded data removed]",
      "text/plain": [
       "<matplotlib.figure.Figure at 0x103f44978>"
      ]
     },
     "metadata": {},
     "output_type": "display_data"
    }
   ],
   "source": [
    "print(\"\"\"Date removed flag:\n",
    "M or Y = print Date;\n",
    "U = Unknown;\n",
    "A = Not available;\n",
    "I = No information at this time;\n",
    "M = Month and year provided only, day defaults to 01;\n",
    "Y = Year provided only, day defaulted to 01, month defaulted to January\"\"\")\n",
    "sns.countplot(y='DATE_REMOVED_FLAG', data=df_DEV)"
   ]
  },
  {
   "cell_type": "code",
   "execution_count": 26,
   "metadata": {
    "collapsed": false
   },
   "outputs": [
    {
     "name": "stdout",
     "output_type": "stream",
     "text": [
      "Date sequence number: totally 12 types; mainly 1.0\n"
     ]
    },
    {
     "data": {
      "text/plain": [
       "<matplotlib.axes._subplots.AxesSubplot at 0x10bd5d908>"
      ]
     },
     "execution_count": 26,
     "metadata": {},
     "output_type": "execute_result"
    },
    {
     "data": {
      "image/png": "[encoded data removed]",
      "text/plain": [
       "<matplotlib.figure.Figure at 0x10ba22400>"
      ]
     },
     "metadata": {},
     "output_type": "display_data"
    }
   ],
   "source": [
    "print('Date sequence number: totally 12 types; mainly 1.0')\n",
    "sns.countplot(y='DEVICE_SEQUENCE_NO', data=df_DEV)"
   ]
  },
  {
   "cell_type": "code",
   "execution_count": 5,
   "metadata": {
    "collapsed": false
   },
   "outputs": [
    {
     "name": "stdout",
     "output_type": "stream",
     "text": [
      "Brand name: showing top\n"
     ]
    },
    {
     "data": {
      "text/plain": [
       "UNK                                              2571\n",
       "MAMMARY PROSTHESIS                               1571\n",
       "PIP, INC.                                        1132\n",
       "*                                                1123\n",
       "HUTCHISON                                        1085\n",
       "GEL-FILLED MAMMARY PROSTHESIS                    1069\n",
       "SILASTIC MAMMARY IMPLANT                          785\n",
       "MENTOR                                            748\n",
       "BREAST IMPLANT                                    661\n",
       "MCGHAN                                            486\n",
       "SILICONE BREAST IMPLANT                           469\n",
       "COMBINATION GEL-INFLATABLE MAMMARY PROSTHESIS     464\n",
       "UNKNOWN                                           332\n",
       "INFLATABLE MAMMARY PROSTHESIS                     330\n",
       "HUTCHISON SALINE FILL MAMMARY IMPLANT             322\n",
       "DOW CORNING                                       309\n",
       "GEL FILLED MAMMARY IMPLANT                        267\n",
       "SURGITEK                                          251\n",
       "SMOOTH HIGH PROFILE SALINE PROSTHESIS             236\n",
       "TEXTURED SALINE-FILL MAMMARY IMPLANT              229\n",
       "SURGITEK GEL MAMMARY IMPLANT                      215\n",
       "MAMMARY IMPLANT                                   187\n",
       "PIP, INC                                          171\n",
       "SILASTIC MAMMARY PROSTHESIS                       168\n",
       "GEL-FILLED MAMMARY IMPLANT                        165\n",
       "SILTEX SALINE MAMMARY PROSTHESIS                  164\n",
       "SILASTIC (R) MAMMARY IMPLANT                      152\n",
       "SILICONE GEL BREAST IMPLANT                       149\n",
       "GEL-FILL MAMMARY IMPLANT                          147\n",
       "SMOOTH SALINE MAMMARY PROSTHESIS                  140\n",
       "Name: BRAND_NAME, dtype: int64"
      ]
     },
     "execution_count": 5,
     "metadata": {},
     "output_type": "execute_result"
    }
   ],
   "source": [
    "print('Brand name: showing top 30')\n",
    "df_DEV['BRAND_NAME'].value_counts().nlargest(30)"
   ]
  },
  {
   "cell_type": "code",
   "execution_count": 6,
   "metadata": {
    "collapsed": false
   },
   "outputs": [
    {
     "name": "stdout",
     "output_type": "stream",
     "text": [
      "Generic name: showing top 30\n"
     ]
    },
    {
     "data": {
      "text/plain": [
       "BREAST IMPLANT                                                      7084\n",
       "MAMMARY IMPLANT, GEL-FILLED                                         1760\n",
       "MAMMARY PROSTHESIS                                                  1384\n",
       "SALINE BREAST IMPLANT                                               1296\n",
       "BREAST IMPLANTS                                                      895\n",
       "SILICONE BREAST IMPLANT                                              847\n",
       "MAMMARY IMPLANT                                                      805\n",
       "*                                                                    750\n",
       "SILICONE BREAST IMPLANTS                                             675\n",
       "SALINE MAMMARY                                                       673\n",
       "MAM IMP GEL-FILLED                                                   453\n",
       "UNK                                                                  413\n",
       "SALINE BREAST IMPLANTS                                               328\n",
       "POLYURETHANE-COVERED MAMMARY IMPLANT                                 268\n",
       "PROSTHESIS, BREAST, NONINFLATABLE, INTERNAL, SILICONE GEL-FILLED     240\n",
       "GEL MAMMARY IMPLANT                                                  226\n",
       "TEXTURED SALINE-FILL MAMMARY IMPLANT                                 223\n",
       "GEL BREAST IMPLANTS                                                  187\n",
       "SILICONE GEL BREAST IMPLANT                                          176\n",
       "SILICONE GEL BREAST IMPLANTS                                         173\n",
       "PROSTHESIS, BREAST, INFLATABLE, INTERNAL, SALINE                     152\n",
       "GEL-FILL MAMMARY IMPLANT                                             108\n",
       "NONE                                                                  95\n",
       "MAMMARY IMPLANT, GEL FILLED                                           93\n",
       "IMPLANT                                                               91\n",
       "GEL BREAST IMPLANT                                                    91\n",
       "UNKNOWN                                                               86\n",
       "SUTURE, ABSORBABLE                                                    81\n",
       "GEL-SALINE MAMMARY IMPLANT                                            75\n",
       "BILATERAL BREAST IMPLANTS                                             72\n",
       "Name: GENERIC_NAME, dtype: int64"
      ]
     },
     "execution_count": 6,
     "metadata": {},
     "output_type": "execute_result"
    }
   ],
   "source": [
    "print('Generic name: showing top 30')\n",
    "df_DEV['GENERIC_NAME'].value_counts().nlargest(30)"
   ]
  },
  {
   "cell_type": "code",
   "execution_count": 7,
   "metadata": {
    "collapsed": false
   },
   "outputs": [
    {
     "name": "stdout",
     "output_type": "stream",
     "text": [
      "Model number: showing top 30\n"
     ]
    },
    {
     "data": {
      "text/plain": [
       "UNK               6013\n",
       "*                 3340\n",
       "UNKNOWN            956\n",
       "ROUND SMOOTH       892\n",
       "TEXTURED           469\n",
       "IMPHY-TEXTURED     455\n",
       "STYLE 7000         448\n",
       "NI                 279\n",
       "IMPHY-SMOOTH       233\n",
       "STYLE 168          221\n",
       "STYLE 6000         160\n",
       "SMOOTH             159\n",
       "STYLE 2100         122\n",
       "ROUND, SMOOTH      121\n",
       "STYLE 468          105\n",
       "STYLE 1600          93\n",
       "STYLE 5000          89\n",
       "STYLE 68            71\n",
       "STYLE 76            65\n",
       "SMOOTH, LOW         62\n",
       "STYLE 2000          62\n",
       "168                 58\n",
       "2600 SILTEX         54\n",
       "SMOOTH ROUND        52\n",
       "ROUND TEXTURED      50\n",
       "SMOOTH, HIGH        50\n",
       "STYLE 1800          46\n",
       "SMOOTH. LOW         45\n",
       "STYLE 2200          40\n",
       "STYLE 80            37\n",
       "Name: MODEL_NUMBER, dtype: int64"
      ]
     },
     "execution_count": 7,
     "metadata": {},
     "output_type": "execute_result"
    }
   ],
   "source": [
    "print('Model number: showing top 30')\n",
    "df_DEV['MODEL_NUMBER'].value_counts().nlargest(30)"
   ]
  },
  {
   "cell_type": "code",
   "execution_count": 8,
   "metadata": {
    "collapsed": false
   },
   "outputs": [
    {
     "name": "stdout",
     "output_type": "stream",
     "text": [
      "Catalogue number: showing top 30\n"
     ]
    },
    {
     "data": {
      "text/plain": [
       "UNK                       7082\n",
       "*                         3069\n",
       "UNKNOWN                    898\n",
       "NI                         291\n",
       "HSL-0340                   247\n",
       "HSL-0300                   164\n",
       "HSL-0380                   162\n",
       "HSL-0420                   159\n",
       "27-168XXX                  127\n",
       "UNK MAMMARY IMPLANT        117\n",
       "UNK GEL BREAST IMPLANT     103\n",
       "350-1640                    90\n",
       "27-468XXX                   83\n",
       "350-1650                    82\n",
       "350-7250                    76\n",
       "350-7225                    75\n",
       "354-2670                    70\n",
       "354-2650                    63\n",
       "HSL-0270                    61\n",
       "354-2660                    58\n",
       "360-7275                    58\n",
       "350-3330                    57\n",
       "354-2640                    57\n",
       "350-1660                    55\n",
       "360-7225                    52\n",
       "HSL-0460                    51\n",
       "350-7200                    50\n",
       "350-7275                    49\n",
       "354-2645                    49\n",
       "350-1630                    47\n",
       "Name: CATALOG_NUMBER, dtype: int64"
      ]
     },
     "execution_count": 8,
     "metadata": {},
     "output_type": "execute_result"
    }
   ],
   "source": [
    "print('Catalogue number: showing top 30')\n",
    "df_DEV['CATALOG_NUMBER'].value_counts().nlargest(30)"
   ]
  },
  {
   "cell_type": "code",
   "execution_count": 9,
   "metadata": {
    "collapsed": false
   },
   "outputs": [
    {
     "name": "stdout",
     "output_type": "stream",
     "text": [
      "Lot number: showing top 30\n"
     ]
    },
    {
     "data": {
      "text/plain": [
       "UNK              7086\n",
       "*                3187\n",
       "UNKNOWN           880\n",
       "NI                679\n",
       "96236              17\n",
       "98214              17\n",
       "96177              15\n",
       "96156              14\n",
       "96138              14\n",
       "96136              13\n",
       "96188              13\n",
       "96145              13\n",
       "96139              13\n",
       "98264              12\n",
       "96161              12\n",
       "96163              12\n",
       "98230              12\n",
       "98322              11\n",
       "96172              11\n",
       "96148              10\n",
       "98204              10\n",
       "96106              10\n",
       "96230              10\n",
       "96144              10\n",
       "S2046/1             9\n",
       "98302               9\n",
       "NOT AVAILABLE       9\n",
       "98226               9\n",
       "96134               8\n",
       "96178               8\n",
       "Name: LOT_NUMBER, dtype: int64"
      ]
     },
     "execution_count": 9,
     "metadata": {},
     "output_type": "execute_result"
    }
   ],
   "source": [
    "print('Lot number: showing top 30')\n",
    "df_DEV['LOT_NUMBER'].value_counts().nlargest(30)"
   ]
  },
  {
   "cell_type": "code",
   "execution_count": 11,
   "metadata": {
    "collapsed": false
   },
   "outputs": [
    {
     "name": "stdout",
     "output_type": "stream",
     "text": [
      "Device operator code: (reference: https://www.fda.gov/MedicalDevices/DeviceRegulationandGuidance/PostmarketRequirements/ReportingAdverseEvents/ucm127891.htm#deviceOperator)\n",
      "0HP = HEALTH PROFESSIONAL\n",
      "0LP = LAY USER/PATIENT\n",
      "UNK = UNKNOWN\n",
      "* = INVALID DATA\n",
      "000/0 = OTHER\n",
      "NI = NO INFORMATION\n",
      "300 = OTHER CAREGIVERS\n",
      "001/1 = PHYSICIAN\n",
      "100 = OTHER HEALTH CARE PROFESSIONAL\n",
      "305 = PATIENT\n",
      "002 = NURSE\n",
      "306 = PATIENT FAMILY MEMBER OR FRIEND\n"
     ]
    },
    {
     "data": {
      "text/plain": [
       "<matplotlib.axes._subplots.AxesSubplot at 0x10a68fd30>"
      ]
     },
     "execution_count": 11,
     "metadata": {},
     "output_type": "execute_result"
    },
    {
     "data": {
      "image/png": "[encoded data removed]",
      "text/plain": [
       "<matplotlib.figure.Figure at 0x1062c8048>"
      ]
     },
     "metadata": {},
     "output_type": "display_data"
    }
   ],
   "source": [
    "print(\"\"\"Device operator code: (reference: https://www.fda.gov/MedicalDevices/DeviceRegulationandGuidance/PostmarketRequirements/ReportingAdverseEvents/ucm127891.htm#deviceOperator)\n",
    "0HP = HEALTH PROFESSIONAL\n",
    "0LP = LAY USER/PATIENT\n",
    "UNK = UNKNOWN\n",
    "* = INVALID DATA\n",
    "000/0 = OTHER\n",
    "NI = NO INFORMATION\n",
    "300 = OTHER CAREGIVERS\n",
    "001/1 = PHYSICIAN\n",
    "100 = OTHER HEALTH CARE PROFESSIONAL\n",
    "305 = PATIENT\n",
    "002 = NURSE\n",
    "306 = PATIENT FAMILY MEMBER OR FRIEND\"\"\")\n",
    "sns.countplot(y='DEVICE_OPERATOR', data=df_DEV)"
   ]
  },
  {
   "cell_type": "code",
   "execution_count": 12,
   "metadata": {
    "collapsed": false
   },
   "outputs": [
    {
     "name": "stdout",
     "output_type": "stream",
     "text": [
      "Device availability:\n",
      "Y = Yes\n",
      "N = No\n",
      "R = Device was returned to manufacturer\n",
      "* = No answer provided\n"
     ]
    },
    {
     "data": {
      "text/plain": [
       "<matplotlib.axes._subplots.AxesSubplot at 0x10416dd68>"
      ]
     },
     "execution_count": 12,
     "metadata": {},
     "output_type": "execute_result"
    },
    {
     "data": {
      "image/png": "[encoded data removed]",
      "text/plain": [
       "<matplotlib.figure.Figure at 0x103d38588>"
      ]
     },
     "metadata": {},
     "output_type": "display_data"
    }
   ],
   "source": [
    "print(\"\"\"Device availability:\n",
    "Y = Yes\n",
    "N = No\n",
    "R = Device was returned to manufacturer\n",
    "* = No answer provided\"\"\")\n",
    "sns.countplot(y='DEVICE_AVAILABILITY', data=df_DEV)"
   ]
  },
  {
   "cell_type": "code",
   "execution_count": 13,
   "metadata": {
    "collapsed": false
   },
   "outputs": [
    {
     "name": "stdout",
     "output_type": "stream",
     "text": [
      "Device report product code: showing top 30\n"
     ]
    },
    {
     "data": {
      "text/plain": [
       "FTR    15300\n",
       "FWM    11421\n",
       "GEI       89\n",
       "GAM       88\n",
       "LCJ       80\n",
       "OXF       73\n",
       "FHW       51\n",
       "NOU       34\n",
       "MEB       31\n",
       "GAN       27\n",
       "HHS       16\n",
       "FTM       16\n",
       "GAR       14\n",
       "GCY       12\n",
       "MHX       12\n",
       "MPN       11\n",
       "MRD       10\n",
       "IZH        9\n",
       "LRO        8\n",
       "FTL        7\n",
       "JOS        6\n",
       "LMH        6\n",
       "NEW        6\n",
       "GAD        5\n",
       "BYI        5\n",
       "LXH        5\n",
       "NVN        5\n",
       "FRN        5\n",
       "FZP        4\n",
       "MEH        4\n",
       "Name: DEVICE_REPORT_PRODUCT_CODE, dtype: int64"
      ]
     },
     "execution_count": 13,
     "metadata": {},
     "output_type": "execute_result"
    }
   ],
   "source": [
    "print('Device report product code: showing top 30')\n",
    "df_DEV['DEVICE_REPORT_PRODUCT_CODE'].value_counts().nlargest(30)"
   ]
  },
  {
   "cell_type": "code",
   "execution_count": 14,
   "metadata": {
    "collapsed": false
   },
   "outputs": [
    {
     "name": "stdout",
     "output_type": "stream",
     "text": [
      "Device age text: showing top 30\n"
     ]
    },
    {
     "data": {
      "text/plain": [
       "UNKNOWN    6100\n",
       "*          3032\n",
       "DA         1070\n",
       "2 YR        562\n",
       "1 YR        422\n",
       "4 YR        342\n",
       "3 YR        328\n",
       "10 YR       238\n",
       "20 YR       212\n",
       "15 YR       196\n",
       "9 YR        181\n",
       "8 YR        179\n",
       "7 YR        178\n",
       "12 YR       175\n",
       "13 YR       173\n",
       "14 YR       171\n",
       "17 YR       144\n",
       "11 YR       140\n",
       "5 YR        140\n",
       "6 YR        131\n",
       "16 YR       125\n",
       "18 YR       123\n",
       "NO INFO     115\n",
       "6 MO        102\n",
       "19 YR        87\n",
       "25 YR        82\n",
       "22 YR        79\n",
       "23 YR        68\n",
       "21 YR        66\n",
       "5 MO         42\n",
       "Name: DEVICE_AGE_TEXT, dtype: int64"
      ]
     },
     "execution_count": 14,
     "metadata": {},
     "output_type": "execute_result"
    }
   ],
   "source": [
    "print('Device age text: showing top 30')\n",
    "df_DEV['DEVICE_AGE_TEXT'].value_counts().nlargest(30)"
   ]
  },
  {
   "cell_type": "code",
   "execution_count": 15,
   "metadata": {
    "collapsed": false
   },
   "outputs": [
    {
     "name": "stdout",
     "output_type": "stream",
     "text": [
      "Device evaluated by manufactur:\n",
      "Y = Yes\n",
      "N = No\n",
      "R = Device not returned to manufacturer\n",
      "* = No answer provided\n"
     ]
    },
    {
     "data": {
      "text/plain": [
       "<matplotlib.axes._subplots.AxesSubplot at 0x103cd7e10>"
      ]
     },
     "execution_count": 15,
     "metadata": {},
     "output_type": "execute_result"
    },
    {
     "data": {
      "image/png": "[encoded data removed]",
      "text/plain": [
       "<matplotlib.figure.Figure at 0x10a5fcf28>"
      ]
     },
     "metadata": {},
     "output_type": "display_data"
    }
   ],
   "source": [
    "print(\"\"\"Device evaluated by manufactur:\n",
    "Y = Yes\n",
    "N = No\n",
    "R = Device not returned to manufacturer\n",
    "* = No answer provided\"\"\")\n",
    "sns.countplot(y='DEVICE_EVALUATED_BY_MANUFACTUR', data=df_DEV)"
   ]
  },
  {
   "cell_type": "code",
   "execution_count": null,
   "metadata": {
    "collapsed": true
   },
   "outputs": [],
   "source": [
    ""
   ]
  }
 ],
 "metadata": {
  "kernelspec": {
   "display_name": "Python 3",
   "language": "python",
   "name": "python3"
  },
  "language_info": {
   "codemirror_mode": {
    "name": "ipython",
    "version": 3
   },
   "file_extension": ".py",
   "mimetype": "text/x-python",
   "name": "python",
   "nbconvert_exporter": "python",
   "pygments_lexer": "ipython3",
   "version": "3.6.2"
  }
 },
 "nbformat": 4,
 "nbformat_minor": 0
}
