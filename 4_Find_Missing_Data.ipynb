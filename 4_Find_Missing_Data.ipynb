{
 "cells": [
  {
   "cell_type": "code",
   "execution_count": 39,
   "metadata": {
    "collapsed": true
   },
   "outputs": [],
   "source": [
    "import pandas as pd\n",
    "import numpy as np\n",
    "from datetime import datetime"
   ]
  },
  {
   "cell_type": "code",
   "execution_count": 40,
   "metadata": {
    "collapsed": true
   },
   "outputs": [],
   "source": [
    "FOI_DEV_LIST = ['thru1997']\n",
    "for i in range(1998, 2009):\n",
    "    FOI_DEV_LIST.append(str(i))\n",
    "FOI_DEV_LIST_2 = ['', 'Add', 'Change']\n",
    "for i in range(2009, 2017):\n",
    "    FOI_DEV_LIST_2.append(str(i))\n",
    "\n",
    "baseline_col = ['BASELINE_BRAND_NAME', 'BASELINE_GENERIC_NAME', 'BASELINE_MODEL_NO', 'BASELINE_CATALOG_NO', 'BASELINE_OTHER_ID_NO', 'BASELINE_DEVICE_FAMILY', 'BASELINE_SHELF_LIFE_CONTAINED', 'BASELINE_SHELF_LIFE_IN_MONTHS', 'BASELINE_PMA_FLAG', 'BASELINE_PMA_NO', 'BASELINE_510_K__FLAG', 'BASELINE_510_K__NO', 'BASELINE_PREAMENDMENT', 'BASELINE_TRANSITIONAL', 'BASELINE_510_K__EXEMPT_FLAG', 'BASELINE_DATE_FIRST_MARKETED', 'BASELINE_DATE_CEASED_MARKETING']    \n",
    "main_col = ['MDR_REPORT_KEY', 'DEVICE_EVENT_KEY', 'IMPLANT_FLAG', 'DATE_REMOVED_FLAG', 'DEVICE_SEQUENCE_NO', 'DATE_RECEIVED', 'BRAND_NAME', 'GENERIC_NAME', 'MANUFACTURER_D_NAME', 'MANUFACTURER_D_ADDRESS_1', 'MANUFACTURER_D_ADDRESS_2', 'MANUFACTURER_D_CITY', 'MANUFACTURER_D_STATE_CODE', 'MANUFACTURER_D_ZIP_CODE', 'MANUFACTURER_D_ZIP_CODE_EXT', 'MANUFACTURER_D_COUNTRY_CODE', 'MANUFACTURER_D_POSTAL_CODE', 'EXPIRATION_DATE_OF_DEVICE', 'MODEL_NUMBER', 'CATALOG_NUMBER', 'LOT_NUMBER', 'OTHER_ID_NUMBER', 'DEVICE_OPERATOR', 'DEVICE_AVAILABILITY', 'DATE_RETURNED_TO_MANUFACTURER', 'DEVICE_REPORT_PRODUCT_CODE', 'DEVICE_AGE_TEXT', 'DEVICE_EVALUATED_BY_MANUFACTUR']\n",
    "\n",
    "df_BI = pd.read_csv('1_BI_KEY_list.txt', header=None, names=['MDR_REPORT_KEY'])"
   ]
  },
  {
   "cell_type": "code",
   "execution_count": 41,
   "metadata": {
    "collapsed": false
   },
   "outputs": [
    {
     "name": "stderr",
     "output_type": "stream",
     "text": [
      "b'Skipping line 54015: expected 45 fields, saw 47\\n'\n",
      "b'Skipping line 66558: expected 45 fields, saw 58\\n'\n",
      "b'Skipping line 121357: expected 45 fields, saw 59\\nSkipping line 122019: expected 45 fields, saw 59\\nSkipping line 129021: expected 45 fields, saw 58\\n'\n",
      "/Library/Frameworks/Python.framework/Versions/3.6/lib/python3.6/site-packages/IPython/core/interactiveshell.py:2717: DtypeWarning: Columns (10,12,13,14,16,27,28,29,30,31,32,33,34,35,36,37,38,39,40,41,42,43,44) have mixed types. Specify dtype option on import or set low_memory=False.\n",
      "  interactivity=interactivity, compiler=compiler, result=result)\n",
      "/Library/Frameworks/Python.framework/Versions/3.6/lib/python3.6/site-packages/IPython/core/interactiveshell.py:2717: DtypeWarning: Columns (14) have mixed types. Specify dtype option on import or set low_memory=False.\n",
      "  interactivity=interactivity, compiler=compiler, result=result)\n",
      "b'Skipping line 16452: expected 45 fields, saw 46\\n'\n",
      "b'Skipping line 48741: expected 45 fields, saw 57\\n'\n",
      "/Library/Frameworks/Python.framework/Versions/3.6/lib/python3.6/site-packages/IPython/core/interactiveshell.py:2717: DtypeWarning: Columns (13,14) have mixed types. Specify dtype option on import or set low_memory=False.\n",
      "  interactivity=interactivity, compiler=compiler, result=result)\n",
      "b'Skipping line 23599: expected 45 fields, saw 48\\n'\n",
      "/Library/Frameworks/Python.framework/Versions/3.6/lib/python3.6/site-packages/IPython/core/interactiveshell.py:2717: DtypeWarning: Columns (14,31,35,44) have mixed types. Specify dtype option on import or set low_memory=False.\n",
      "  interactivity=interactivity, compiler=compiler, result=result)\n",
      "/Library/Frameworks/Python.framework/Versions/3.6/lib/python3.6/site-packages/IPython/core/interactiveshell.py:2717: DtypeWarning: Columns (14,31,35) have mixed types. Specify dtype option on import or set low_memory=False.\n",
      "  interactivity=interactivity, compiler=compiler, result=result)\n"
     ]
    }
   ],
   "source": [
    "df_list = []\n",
    "for s in FOI_DEV_LIST:\n",
    "    df = pd.read_csv('foidev/foidev'+s+'.txt', sep='|', header=0, encoding='ISO-8859-1', error_bad_lines=False)\n",
    "    df_list.append(df)\n",
    "df_BASELINE = pd.concat(df_list, axis=0)\n",
    "del df_list\n",
    "\n",
    "df_BI_BASELINE = df_BASELINE.merge(df_BI, on=['MDR_REPORT_KEY'], how='inner')"
   ]
  },
  {
   "cell_type": "code",
   "execution_count": 42,
   "metadata": {
    "collapsed": false
   },
   "outputs": [
    {
     "name": "stdout",
     "output_type": "stream",
     "text": [
      "BASELINE_BRAND_NAME missing : 16278 out of 24491 , 0.664652321261\n",
      "BASELINE_GENERIC_NAME missing : 16280 out of 24491 , 0.664733983912\n",
      "BASELINE_MODEL_NO missing : 17233 out of 24491 , 0.703646237393\n",
      "BASELINE_CATALOG_NO missing : 17556 out of 24491 , 0.716834755625\n",
      "BASELINE_OTHER_ID_NO missing : 19687 out of 24491 , 0.80384631089\n",
      "BASELINE_DEVICE_FAMILY missing : 20960 out of 24491 , 0.855824588624\n",
      "BASELINE_SHELF_LIFE_CONTAINED missing : 22059 out of 24491 , 0.900698215671\n",
      "BASELINE_SHELF_LIFE_IN_MONTHS missing : 22183 out of 24491 , 0.905761300069\n",
      "BASELINE_PMA_FLAG missing : 20208 out of 24491 , 0.825119431628\n",
      "BASELINE_PMA_NO missing : 22755 out of 24491 , 0.929116818423\n",
      "BASELINE_510_K__FLAG missing : 20208 out of 24491 , 0.825119431628\n",
      "BASELINE_510_K__NO missing : 22649 out of 24491 , 0.924788697889\n",
      "BASELINE_PREAMENDMENT missing : 20208 out of 24491 , 0.825119431628\n",
      "BASELINE_TRANSITIONAL missing : 20208 out of 24491 , 0.825119431628\n",
      "BASELINE_510_K__EXEMPT_FLAG missing : 20208 out of 24491 , 0.825119431628\n",
      "BASELINE_DATE_FIRST_MARKETED missing : 20209 out of 24491 , 0.825160262954\n",
      "BASELINE_DATE_CEASED_MARKETING missing : 22246 out of 24491 , 0.908333673594\n"
     ]
    }
   ],
   "source": [
    "line_num = df_BI_BASELINE.shape[0]\n",
    "for b in baseline_col:\n",
    "    m = df_BI_BASELINE[b].isnull().sum()\n",
    "    print(b, 'missing :', m, 'out of', line_num, ',', m/line_num)"
   ]
  },
  {
   "cell_type": "code",
   "execution_count": 43,
   "metadata": {
    "collapsed": false
   },
   "outputs": [
    {
     "name": "stderr",
     "output_type": "stream",
     "text": [
      "b'Skipping line 46607: expected 28 fields, saw 29\\n'\n",
      "/Library/Frameworks/Python.framework/Versions/3.6/lib/python3.6/site-packages/IPython/core/interactiveshell.py:2717: DtypeWarning: Columns (0,1,2) have mixed types. Specify dtype option on import or set low_memory=False.\n",
      "  interactivity=interactivity, compiler=compiler, result=result)\n",
      "b'Skipping line 54500: expected 28 fields, saw 29\\n'\n",
      "b'Skipping line 92909: expected 28 fields, saw 29\\n'\n",
      "b'Skipping line 137127: expected 28 fields, saw 29\\n'\n",
      "b'Skipping line 226678: expected 28 fields, saw 29\\n'\n",
      "b'Skipping line 274432: expected 28 fields, saw 29\\n'\n",
      "b'Skipping line 404363: expected 28 fields, saw 29\\n'\n",
      "b'Skipping line 439704: expected 28 fields, saw 29\\n'\n",
      "/Library/Frameworks/Python.framework/Versions/3.6/lib/python3.6/site-packages/IPython/core/interactiveshell.py:2717: DtypeWarning: Columns (0,1,2,3,4) have mixed types. Specify dtype option on import or set low_memory=False.\n",
      "  interactivity=interactivity, compiler=compiler, result=result)\n",
      "b'Skipping line 131902: expected 28 fields, saw 29\\n'\n",
      "b'Skipping line 213504: expected 28 fields, saw 29\\n'\n",
      "b'Skipping line 229517: expected 28 fields, saw 29\\nSkipping line 232754: expected 28 fields, saw 42\\n'\n",
      "b'Skipping line 337236: expected 28 fields, saw 42\\n'\n",
      "b'Skipping line 386036: expected 28 fields, saw 42\\n'\n",
      "b'Skipping line 517139: expected 28 fields, saw 29\\n'\n",
      "b'Skipping line 539420: expected 28 fields, saw 42\\n'\n",
      "b'Skipping line 580359: expected 28 fields, saw 29\\n'\n",
      "b'Skipping line 614689: expected 28 fields, saw 29\\n'\n",
      "b'Skipping line 667843: expected 28 fields, saw 29\\n'\n",
      "b'Skipping line 785601: expected 28 fields, saw 29\\n'\n",
      "b'Skipping line 39459: expected 28 fields, saw 40\\n'\n",
      "b'Skipping line 399152: expected 28 fields, saw 29\\n'\n",
      "b'Skipping line 534956: expected 28 fields, saw 29\\n'\n",
      "b'Skipping line 644346: expected 28 fields, saw 29\\n'\n",
      "b'Skipping line 709324: expected 28 fields, saw 29\\n'\n",
      "b'Skipping line 839177: expected 28 fields, saw 29\\n'\n",
      "b'Skipping line 9830: expected 28 fields, saw 29\\nSkipping line 11448: expected 28 fields, saw 29\\n'\n",
      "b'Skipping line 92754: expected 28 fields, saw 29\\n'\n",
      "b'Skipping line 204882: expected 28 fields, saw 29\\nSkipping line 227966: expected 28 fields, saw 29\\n'\n",
      "b'Skipping line 230075: expected 28 fields, saw 29\\n'\n",
      "b'Skipping line 266443: expected 28 fields, saw 29\\nSkipping line 291029: expected 28 fields, saw 29\\n'\n",
      "b'Skipping line 337669: expected 28 fields, saw 29\\n'\n",
      "b'Skipping line 443629: expected 28 fields, saw 29\\n'\n",
      "b'Skipping line 570703: expected 28 fields, saw 29\\n'\n",
      "b'Skipping line 608662: expected 28 fields, saw 29\\nSkipping line 613710: expected 28 fields, saw 29\\n'\n",
      "b'Skipping line 695004: expected 28 fields, saw 29\\n'\n",
      "b'Skipping line 730318: expected 28 fields, saw 29\\nSkipping line 734211: expected 28 fields, saw 29\\n'\n",
      "b'Skipping line 777626: expected 28 fields, saw 29\\n'\n",
      "b'Skipping line 788407: expected 28 fields, saw 29\\n'\n"
     ]
    }
   ],
   "source": [
    "for b in baseline_col:\n",
    "    del df_BI_BASELINE[b]\n",
    "df_list = [df_BI_BASELINE]\n",
    "for s in FOI_DEV_LIST_2:\n",
    "    df = pd.read_csv('foidev/foidev'+s+'.txt', sep='|', header=0, encoding='ISO-8859-1', error_bad_lines=False)\n",
    "    df_list.append(df)\n",
    "df = pd.concat(df_list, axis=0)\n",
    "del df_list\n",
    "df = df.merge(df_BI, on=['MDR_REPORT_KEY'], how='inner')"
   ]
  },
  {
   "cell_type": "code",
   "execution_count": 44,
   "metadata": {
    "collapsed": false
   },
   "outputs": [
    {
     "name": "stdout",
     "output_type": "stream",
     "text": [
      "MDR_REPORT_KEY missing : 0 out of 27512 , 0.0\n",
      "DEVICE_EVENT_KEY missing : 3021 out of 27512 , 0.109806629834\n",
      "IMPLANT_FLAG missing : 3021 out of 27512 , 0.109806629834\n",
      "DATE_REMOVED_FLAG missing : 5002 out of 27512 , 0.181811573132\n",
      "DEVICE_SEQUENCE_NO missing : 0 out of 27512 , 0.0\n",
      "DATE_RECEIVED missing : 0 out of 27512 , 0.0\n",
      "BRAND_NAME missing : 1669 out of 27512 , 0.0606644373364\n",
      "GENERIC_NAME missing : 2715 out of 27512 , 0.0986842105263\n",
      "MANUFACTURER_D_NAME missing : 1871 out of 27512 , 0.0680066879907\n",
      "MANUFACTURER_D_ADDRESS_1 missing : 7272 out of 27512 , 0.264321023553\n",
      "MANUFACTURER_D_ADDRESS_2 missing : 23799 out of 27512 , 0.865040709509\n",
      "MANUFACTURER_D_CITY missing : 4604 out of 27512 , 0.167345158476\n",
      "MANUFACTURER_D_STATE_CODE missing : 12741 out of 27512 , 0.463107007851\n",
      "MANUFACTURER_D_ZIP_CODE missing : 13131 out of 27512 , 0.477282640302\n",
      "MANUFACTURER_D_ZIP_CODE_EXT missing : 25954 out of 27512 , 0.943370165746\n",
      "MANUFACTURER_D_COUNTRY_CODE missing : 3693 out of 27512 , 0.134232334981\n",
      "MANUFACTURER_D_POSTAL_CODE missing : 24215 out of 27512 , 0.880161384123\n",
      "EXPIRATION_DATE_OF_DEVICE missing : 26954 out of 27512 , 0.979717941262\n",
      "MODEL_NUMBER missing : 9297 out of 27512 , 0.337925268974\n",
      "CATALOG_NUMBER missing : 7060 out of 27512 , 0.256615295144\n",
      "LOT_NUMBER missing : 5494 out of 27512 , 0.199694678686\n",
      "OTHER_ID_NUMBER missing : 15122 out of 27512 , 0.549651061355\n",
      "DEVICE_OPERATOR missing : 4802 out of 27512 , 0.174542018028\n",
      "DEVICE_AVAILABILITY missing : 1943 out of 27512 , 0.0706237278279\n",
      "DATE_RETURNED_TO_MANUFACTURER missing : 23778 out of 27512 , 0.864277406223\n",
      "DEVICE_REPORT_PRODUCT_CODE missing : 52 out of 27512 , 0.00189008432684\n",
      "DEVICE_AGE_TEXT missing : 11688 out of 27512 , 0.424832800233\n",
      "DEVICE_EVALUATED_BY_MANUFACTUR missing : 14717 out of 27512 , 0.534930212271\n"
     ]
    }
   ],
   "source": [
    "line_num = df.shape[0]\n",
    "for b in main_col:\n",
    "    n = df[b].isnull().sum()\n",
    "    print(b, 'missing :', n, 'out of', line_num, ',', n/line_num)"
   ]
  },
  {
   "cell_type": "code",
   "execution_count": 45,
   "metadata": {
    "collapsed": false
   },
   "outputs": [
    {
     "name": "stdout",
     "output_type": "stream",
     "text": [
      "Distinct brand name: 3280 out of 25843\n",
      "Distinct model #: 1795 out of 18215\n"
     ]
    }
   ],
   "source": [
    "u = list(df.BRAND_NAME.unique())\n",
    "print('Distinct brand name:', len(u), 'out of', df['BRAND_NAME'].notnull().sum())\n",
    "u = list(df.MODEL_NUMBER.unique())\n",
    "print('Distinct model #:', len(u), 'out of', df['MODEL_NUMBER'].notnull().sum())"
   ]
  },
  {
   "cell_type": "code",
   "execution_count": 46,
   "metadata": {
    "collapsed": false,
    "scrolled": true
   },
   "outputs": [],
   "source": [
    "df['DATE_RECEIVED'] = pd.to_datetime(df['DATE_RECEIVED'])"
   ]
  },
  {
   "cell_type": "code",
   "execution_count": 47,
   "metadata": {
    "collapsed": true
   },
   "outputs": [],
   "source": [
    "def slice(d):\n",
    "    if (d < datetime(year=1994, month=1, day=1)) | (d >= datetime(year=2017, month=2, day=1)):\n",
    "        return True\n",
    "    else:\n",
    "        return False"
   ]
  },
  {
   "cell_type": "code",
   "execution_count": 48,
   "metadata": {
    "collapsed": false,
    "scrolled": true
   },
   "outputs": [
    {
     "data": {
      "text/plain": [
       "0"
      ]
     },
     "execution_count": 48,
     "metadata": {},
     "output_type": "execute_result"
    }
   ],
   "source": [
    "df['filter'] = df['DATE_RECEIVED'].map(slice)\n",
    "wrong_list = list(df.loc[df['filter']==True, :].MDR_REPORT_KEY.unique())\n",
    "len(wrong_list)"
   ]
  },
  {
   "cell_type": "code",
   "execution_count": null,
   "metadata": {
    "collapsed": true
   },
   "outputs": [],
   "source": []
  }
 ],
 "metadata": {
  "kernelspec": {
   "display_name": "Python 3",
   "language": "python",
   "name": "python3"
  },
  "language_info": {
   "codemirror_mode": {
    "name": "ipython",
    "version": 3
   },
   "file_extension": ".py",
   "mimetype": "text/x-python",
   "name": "python",
   "nbconvert_exporter": "python",
   "pygments_lexer": "ipython3",
   "version": "3.6.2"
  }
 },
 "nbformat": 4,
 "nbformat_minor": 2
}
