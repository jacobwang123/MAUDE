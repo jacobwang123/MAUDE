{
 "cells": [
  {
   "cell_type": "code",
   "execution_count": 18,
   "metadata": {
    "collapsed": false
   },
   "outputs": [
    {
     "name": "stderr",
     "output_type": "stream",
     "text": [
      "/Library/Frameworks/Python.framework/Versions/3.6/lib/python3.6/site-packages/IPython/core/interactiveshell.py:2698: DtypeWarning: Columns (33,34,35,37,38,39,45,46) have mixed types. Specify dtype option on import or set low_memory=False.\n",
      "  interactivity=interactivity, compiler=compiler, result=result)\n"
     ]
    }
   ],
   "source": [
    "%matplotlib inline\n",
    "import gc\n",
    "import pandas as pd\n",
    "import numpy as np\n",
    "import seaborn as sns\n",
    "import matplotlib.pyplot as plt\n",
    "from datetime import datetime\n",
    "\n",
    "df_FOI = pd.read_csv('FOI_BI.txt', sep='|', header=0, encoding='ISO-8859-1', error_bad_lines=False)"
   ]
  },
  {
   "cell_type": "code",
   "execution_count": null,
   "metadata": {
    "collapsed": false
   },
   "outputs": [
    {
     "name": "stdout",
     "output_type": "stream",
     "text": [
      "In the MDR FOI data, there are 25846 records in total.\n",
      "Also deleting invalid columns (100% missing values).\n",
      "\n",
      "MDR_REPORT_KEY missing : 0 out of 25846 , 0.0\n",
      "REPORT_NUMBER missing : 0 out of 25846 , 0.0\n",
      "REPORT_SOURCE_CODE missing : 0 out of 25846 , 0.0\n",
      "MANUFACTURER_LINK_FLAG_ missing : 0 out of 25846 , 0.0\n",
      "DATE_RECEIVED missing : 0 out of 25846 , 0.0\n",
      "ADVERSE_EVENT_FLAG missing : 1002 out of 25846 , 0.0387680879053\n",
      "PRODUCT_PROBLEM_FLAG missing : 1486 out of 25846 , 0.0574943898476\n",
      "DATE_REPORT missing : 2602 out of 25846 , 0.100673218293\n",
      "DATE_OF_EVENT missing : 6659 out of 25846 , 0.257641414532\n",
      "REPROCESSED_AND_REUSED_FLAG missing : 21536 out of 25846 , 0.833243055018\n",
      "REPORTER_OCCUPATION_CODE missing : 2606 out of 25846 , 0.100827981119\n",
      "HEALTH_PROFESSIONAL missing : 2380 out of 25846 , 0.0920838814517\n",
      "INITIAL_REPORT_TO_FDA missing : 6304 out of 25846 , 0.243906213727\n",
      "DATE_FACILITY_AWARE missing : 15346 out of 25846 , 0.593747581831\n",
      "REPORT_DATE missing : 14055 out of 25846 , 0.543797879749\n",
      "REPORT_TO_FDA missing : 7067 out of 25846 , 0.273427222781\n",
      "DATE_REPORT_TO_FDA missing : 19853 out of 25846 , 0.768126595992\n",
      "EVENT_LOCATION missing : 7497 out of 25846 , 0.290064226573\n",
      "DATE_REPORT_TO_MANUFACTURER missing : 21404 out of 25846 , 0.828135881761\n",
      "MANUFACTURER_CONTACT_F_NAME missing : 23555 out of 25846 , 0.911359591426\n",
      "MANUFACTURER_CONTACT_L_NAME missing : 23555 out of 25846 , 0.911359591426\n",
      "MANUFACTURER_CONTACT_STREET_1 missing : 22322 out of 25846 , 0.863653950321\n",
      "MANUFACTURER_CONTACT_STREET_2 missing : 24239 out of 25846 , 0.937824034667\n",
      "MANUFACTURER_CONTACT_CITY missing : 22313 out of 25846 , 0.863305733963\n",
      "MANUFACTURER_CONTACT_STATE missing : 23813 out of 25846 , 0.921341793701\n",
      "MANUFACTURER_CONTACT_ZIP_CODE missing : 22358 out of 25846 , 0.865046815755\n",
      "MANUFACTURER_CONTACT_ZIP_EXT missing : 24311 out of 25846 , 0.940609765534\n",
      "MANUFACTURER_CONTACT_COUNTRY missing : 22308 out of 25846 , 0.86311228043\n",
      "MANUFACTURER_CONTACT_POSTAL missing : 22358 out of 25846 , 0.865046815755\n",
      "MANUFACTURER_CONTACT_AREA_CODE missing : 22326 out of 25846 , 0.863808713147\n",
      "MANUFACTURER_CONTACT_EXCHANGE missing : 22326 out of 25846 , 0.863808713147\n",
      "MANUFACTURER_CONTACT_PHONE_NO missing : 22326 out of 25846 , 0.863808713147\n",
      "MANUFACTURER_CONTACT_PCOUNTRY missing : 24349 out of 25846 , 0.942080012381\n",
      "MANUFACTURER_CONTACT_PCITY missing : 22326 out of 25846 , 0.863808713147\n",
      "MANUFACTURER_CONTACT_PLOCAL missing : 22326 out of 25846 , 0.863808713147\n",
      "MANUFACTURER_G1_NAME missing : 22676 out of 25846 , 0.877350460419\n",
      "MANUFACTURER_G1_STREET_1 missing : 22647 out of 25846 , 0.876228429931\n",
      "MANUFACTURER_G1_CITY missing : 22763 out of 25846 , 0.880716551884\n",
      "MANUFACTURER_G1_COUNTRY_CODE missing : 22688 out of 25846 , 0.877814748897\n",
      "DATE_MANUFACTURER_RECEIVED missing : 14293 out of 25846 , 0.553006267894\n",
      "DEVICE_DATE_OF_MANUFACTURE missing : 22351 out of 25846 , 0.864775980809\n",
      "SINGLE_USE_FLAG missing : 13952 out of 25846 , 0.539812736981\n",
      "PREVIOUS_USE_CODE missing : 13773 out of 25846 , 0.532887100518\n",
      "EVENT_TYPE missing : 0 out of 25846 , 0.0\n",
      "TYPE_OF_REPORT missing : 197 out of 25846 , 0.00762206917898\n",
      "SOURCE_TYPE missing : 14009 out of 25846 , 0.542018107251\n",
      "DATE_ADDED missing : 0 out of 25846 , 0.0\n",
      "DATE_CHANGED missing : 0 out of 25846 , 0.0\n",
      "\n",
      "Invalid columns: ['EVENT_KEY', 'NUMBER_DEVICES_IN_EVENT', 'NUMBER_PATIENTS_IN_EVENT', 'MANUFACTURER_CONTACT_T_NAME', 'MANUFACTURER_CONTACT_EXTENSION', 'MANUFACTURER_G1_STREET_2', 'MANUFACTURER_G1_STATE_CODE', 'MANUFACTURER_G1_ZIP_CODE', 'MANUFACTURER_G1_ZIP_CODE_EXT', 'MANUFACTURER_G1_POSTAL_CODE', 'REMEDIAL_ACTION', 'REMOVAL_CORRECTION_NUMBER', 'DISTRIBUTOR_NAME', 'DISTRIBUTOR_ADDRESS_1', 'DISTRIBUTOR_ADDRESS_2', 'DISTRIBUTOR_CITY', 'DISTRIBUTOR_STATE_CODE', 'DISTRIBUTOR_ZIP_CODE', 'DISTRIBUTOR_ZIP_CODE_EXT', 'REPORT_TO_MANUFACTURER', 'MANUFACTURER_NAME', 'MANUFACTURER_ADDRESS_1', 'MANUFACTURER_ADDRESS_2', 'MANUFACTURER_CITY', 'MANUFACTURER_STATE_CODE', 'MANUFACTURER_ZIP_CODE', 'MANUFACTURER_ZIP_CODE_EXT', 'MANUFACTURER_COUNTRY_CODE', 'MANUFACTURER_POSTAL_CODE']\n"
     ]
    }
   ],
   "source": [
    "col_name = list(df_FOI.columns.values)\n",
    "line_num = df_FOI.shape[0]\n",
    "print('In the MDR FOI data, there are {} records in total.'.format(line_num))\n",
    "print('Also deleting invalid columns (100% missing values).\\n')\n",
    "bad_columns = []\n",
    "for b in col_name:\n",
    "    n = df_FOI[b].isnull().sum()\n",
    "    if n >= 0.95 * line_num:\n",
    "        del df_FOI[b]\n",
    "        bad_columns.append(b)\n",
    "    else:\n",
    "        print(b, 'missing :', n, 'out of', line_num, ',', n/line_num)\n",
    "print('\\nInvalid columns:', bad_columns)"
   ]
  },
  {
   "cell_type": "code",
   "execution_count": 20,
   "metadata": {
    "collapsed": false
   },
   "outputs": [
    {
     "name": "stdout",
     "output_type": "stream",
     "text": [
      "MDR_REPORT_KEY unique value : 25836\n",
      "REPORT_NUMBER unique value : 25821\n",
      "REPORT_SOURCE_CODE unique value : 4\n",
      "MANUFACTURER_LINK_FLAG_ unique value : 2\n",
      "DATE_RECEIVED unique value : 4253\n",
      "ADVERSE_EVENT_FLAG unique value : 3\n",
      "PRODUCT_PROBLEM_FLAG unique value : 3\n",
      "DATE_REPORT unique value : 4734\n",
      "DATE_OF_EVENT unique value : 7106\n",
      "REPROCESSED_AND_REUSED_FLAG unique value : 3\n",
      "REPORTER_OCCUPATION_CODE unique value : 29\n",
      "HEALTH_PROFESSIONAL unique value : 5\n",
      "INITIAL_REPORT_TO_FDA unique value : 5\n",
      "DATE_FACILITY_AWARE unique value : 4682\n",
      "REPORT_DATE unique value : 2660\n",
      "REPORT_TO_FDA unique value : 5\n",
      "DATE_REPORT_TO_FDA unique value : 1977\n",
      "EVENT_LOCATION unique value : 18\n",
      "DATE_REPORT_TO_MANUFACTURER unique value : 1360\n",
      "MANUFACTURER_CONTACT_F_NAME unique value : 122\n",
      "MANUFACTURER_CONTACT_L_NAME unique value : 174\n",
      "MANUFACTURER_CONTACT_STREET_1 unique value : 217\n",
      "MANUFACTURER_CONTACT_STREET_2 unique value : 41\n",
      "MANUFACTURER_CONTACT_CITY unique value : 111\n",
      "MANUFACTURER_CONTACT_STATE unique value : 24\n",
      "MANUFACTURER_CONTACT_ZIP_CODE unique value : 107\n",
      "MANUFACTURER_CONTACT_ZIP_EXT unique value : 25\n",
      "MANUFACTURER_CONTACT_COUNTRY unique value : 11\n",
      "MANUFACTURER_CONTACT_POSTAL unique value : 122\n",
      "MANUFACTURER_CONTACT_AREA_CODE unique value : 118\n",
      "MANUFACTURER_CONTACT_EXCHANGE unique value : 118\n",
      "MANUFACTURER_CONTACT_PHONE_NO unique value : 154\n",
      "MANUFACTURER_CONTACT_PCOUNTRY unique value : 22\n",
      "MANUFACTURER_CONTACT_PCITY unique value : 176\n",
      "MANUFACTURER_CONTACT_PLOCAL unique value : 182\n",
      "MANUFACTURER_G1_NAME unique value : 137\n",
      "MANUFACTURER_G1_STREET_1 unique value : 154\n",
      "MANUFACTURER_G1_CITY unique value : 101\n",
      "MANUFACTURER_G1_COUNTRY_CODE unique value : 15\n",
      "DATE_MANUFACTURER_RECEIVED unique value : 2321\n",
      "DEVICE_DATE_OF_MANUFACTURE unique value : 612\n",
      "SINGLE_USE_FLAG unique value : 4\n",
      "PREVIOUS_USE_CODE unique value : 5\n",
      "EVENT_TYPE unique value : 5\n",
      "TYPE_OF_REPORT unique value : 7\n",
      "SOURCE_TYPE unique value : 106\n",
      "DATE_ADDED unique value : 3859\n",
      "DATE_CHANGED unique value : 3779\n"
     ]
    }
   ],
   "source": [
    "col_name = list(df_FOI.columns.values)\n",
    "for b in col_name:\n",
    "    n = df_FOI[b].nunique()\n",
    "    print(b, 'unique value :', n)"
   ]
  },
  {
   "cell_type": "code",
   "execution_count": 25,
   "metadata": {
    "collapsed": false
   },
   "outputs": [
    {
     "name": "stdout",
     "output_type": "stream",
     "text": [
      "Report source code:\n",
      "P = Voluntary report\n",
      "U = User Facility report\n",
      "D = Distributor report\n",
      "M = Manufacturer report\n"
     ]
    },
    {
     "data": {
      "image/png": "[encoded data removed]",
      "text/plain": [
       "<matplotlib.figure.Figure at 0x10c5b54e0>"
      ]
     },
     "metadata": {},
     "output_type": "display_data"
    }
   ],
   "source": [
    "sns.set_style(\"whitegrid\")\n",
    "print(\"\"\"Report source code:\n",
    "P = Voluntary report\n",
    "U = User Facility report\n",
    "D = Distributor report\n",
    "M = Manufacturer report\"\"\")\n",
    "ax = sns.countplot(x='REPORT_SOURCE_CODE', data=df_FOI)\n",
    "plt.xlabel('Report source code')\n",
    "plt.ylabel('Count')\n",
    "for p in ax.patches:\n",
    "    ax.annotate('{:.1f}'.format(p.get_height()), (p.get_x()+0.1, p.get_height()+50))"
   ]
  },
  {
   "cell_type": "code",
   "execution_count": 54,
   "metadata": {
    "collapsed": false
   },
   "outputs": [
    {
     "name": "stdout",
     "output_type": "stream",
     "text": [
      "Manufacturer Link Flag:\n",
      "Y = Yes\n",
      "N = No\n"
     ]
    },
    {
     "data": {
      "image/png": "[encoded data removed]",
      "text/plain": [
       "<matplotlib.figure.Figure at 0x10b264a20>"
      ]
     },
     "metadata": {},
     "output_type": "display_data"
    }
   ],
   "source": [
    "print(\"\"\"Manufacturer Link Flag:\n",
    "Y = Yes\n",
    "N = No\"\"\")\n",
    "ax = sns.countplot(x='MANUFACTURER_LINK_FLAG_', data=df_FOI)\n",
    "plt.xlabel('Manufacturer Link Flag')\n",
    "plt.ylabel('Count')\n",
    "for p in ax.patches:\n",
    "    ax.annotate('{:.1f}'.format(p.get_height()), (p.get_x()+0.1, p.get_height()+50))"
   ]
  },
  {
   "cell_type": "code",
   "execution_count": 55,
   "metadata": {
    "collapsed": false
   },
   "outputs": [
    {
     "name": "stdout",
     "output_type": "stream",
     "text": [
      "Adverse Event Flag:\n",
      "Y = Yes\n",
      "N = No\n",
      "* = Invalid\n"
     ]
    },
    {
     "data": {
      "image/png": "[encoded data removed]",
      "text/plain": [
       "<matplotlib.figure.Figure at 0x10c27f278>"
      ]
     },
     "metadata": {},
     "output_type": "display_data"
    }
   ],
   "source": [
    "print(\"\"\"Adverse Event Flag:\n",
    "Y = Yes\n",
    "N = No\n",
    "* = Invalid\"\"\")\n",
    "ax = sns.countplot(x='ADVERSE_EVENT_FLAG', data=df_FOI)\n",
    "plt.xlabel('Adverse Event Flag')\n",
    "plt.ylabel('Count')\n",
    "for p in ax.patches:\n",
    "    ax.annotate('{:.1f}'.format(p.get_height()), (p.get_x()+0.1, p.get_height()+50))"
   ]
  },
  {
   "cell_type": "code",
   "execution_count": 56,
   "metadata": {
    "collapsed": false
   },
   "outputs": [
    {
     "name": "stdout",
     "output_type": "stream",
     "text": [
      "Product Problem Flag:\n",
      "Y = Yes\n",
      "N = No\n",
      "* = Invalid\n"
     ]
    },
    {
     "data": {
      "image/png": "[encoded data removed]",
      "text/plain": [
       "<matplotlib.figure.Figure at 0x10c0f3898>"
      ]
     },
     "metadata": {},
     "output_type": "display_data"
    }
   ],
   "source": [
    "print(\"\"\"Product Problem Flag:\n",
    "Y = Yes\n",
    "N = No\n",
    "* = Invalid\"\"\")\n",
    "ax = sns.countplot(x='PRODUCT_PROBLEM_FLAG', data=df_FOI)\n",
    "plt.xlabel('Product Problem Flag')\n",
    "plt.ylabel('Count')\n",
    "for p in ax.patches:\n",
    "    ax.annotate('{:.1f}'.format(p.get_height()), (p.get_x()+0.1, p.get_height()+50))"
   ]
  },
  {
   "cell_type": "code",
   "execution_count": 57,
   "metadata": {
    "collapsed": false
   },
   "outputs": [
    {
     "name": "stdout",
     "output_type": "stream",
     "text": [
      "Reprocessed And Reused Flag:\n",
      "Y = Yes\n",
      "N = No\n",
      "* = Invalid\n"
     ]
    },
    {
     "data": {
      "image/png": "[encoded data removed]",
      "text/plain": [
       "<matplotlib.figure.Figure at 0x10d95e780>"
      ]
     },
     "metadata": {},
     "output_type": "display_data"
    }
   ],
   "source": [
    "print(\"\"\"Reprocessed And Reused Flag:\n",
    "Y = Yes\n",
    "N = No\n",
    "* = Invalid\"\"\")\n",
    "ax = sns.countplot(x='REPROCESSED_AND_REUSED_FLAG', data=df_FOI)\n",
    "plt.xlabel('Reprocessed And Reused Flag')\n",
    "plt.ylabel('Count')\n",
    "for p in ax.patches:\n",
    "    ax.annotate('{:.1f}'.format(p.get_height()), (p.get_x()+0.1, p.get_height()+50))"
   ]
  },
  {
   "cell_type": "code",
   "execution_count": 39,
   "metadata": {
    "collapsed": false
   },
   "outputs": [
    {
     "name": "stdout",
     "output_type": "stream",
     "text": [
      "Reporter Occupation Code:\n",
      "* = INVALID DATA\n",
      "000 = OTHER\n",
      "001 = PHYSICIAN\n",
      "002 = NURSE\n",
      "0HP = HEALTH PROFESSIONAL\n",
      "0LP = LAY USER/PATIENT\n",
      "CST = ?\n",
      "100 = OTHER HEALTH CARE PROFESSIONAL\n",
      "102 = DENTAL HYGIENIST\n",
      "105 = MEDICAL TECHNOLOGIST\n",
      "109 = PHARMACIST\n",
      "112 = PHYSICIAN ASSISTANT\n",
      "115 = SPEECH THERAPIST\n",
      "300 = OTHER CAREGIVERS\n",
      "301 = DENTAL ASSISTANT\n",
      "303 = MEDICAL ASSISTANT\n",
      "304 = NURSING ASSISTANT\n",
      "305 = PATIENT\n",
      "306 = PATIENT FAMILY MEMBER OR FRIEND\n",
      "401 = BIOMEDICAL ENGINEER\n",
      "403 = MEDICAL EQUIPMENT COMPANY TECHNICIAN/REPRESENTATIVE\n",
      "405 = SERVICE PERSONNEL\n",
      "500 = RISK MANAGER\n",
      "600 = ATTORNEY\n",
      "999 = UNKNOWN\n",
      "NI = NO INFORMATION\n",
      "UNK = UNKNOWN\n"
     ]
    },
    {
     "data": {
      "text/plain": [
       "001    5964\n",
       "600    4665\n",
       "500    2489\n",
       "002    2469\n",
       "000    2460\n",
       "305    2290\n",
       "*      1723\n",
       "UNK     762\n",
       "NI      143\n",
       "100     136\n",
       "306      50\n",
       "401      24\n",
       "999      18\n",
       "109       8\n",
       "1         8\n",
       "0HP       6\n",
       "CST       3\n",
       "105       3\n",
       "303       3\n",
       "2         3\n",
       "301       2\n",
       "102       2\n",
       "0LP       2\n",
       "112       2\n",
       "304       1\n",
       "115       1\n",
       "300       1\n",
       "405       1\n",
       "403       1\n",
       "Name: REPORTER_OCCUPATION_CODE, dtype: int64"
      ]
     },
     "execution_count": 39,
     "metadata": {},
     "output_type": "execute_result"
    }
   ],
   "source": [
    "print(\"\"\"Reporter Occupation Code:\n",
    "* = INVALID DATA\n",
    "000 = OTHER\n",
    "001 = PHYSICIAN\n",
    "002 = NURSE\n",
    "0HP = HEALTH PROFESSIONAL\n",
    "0LP = LAY USER/PATIENT\n",
    "CST = ?\n",
    "100 = OTHER HEALTH CARE PROFESSIONAL\n",
    "102 = DENTAL HYGIENIST\n",
    "105 = MEDICAL TECHNOLOGIST\n",
    "109 = PHARMACIST\n",
    "112 = PHYSICIAN ASSISTANT\n",
    "115 = SPEECH THERAPIST\n",
    "300 = OTHER CAREGIVERS\n",
    "301 = DENTAL ASSISTANT\n",
    "303 = MEDICAL ASSISTANT\n",
    "304 = NURSING ASSISTANT\n",
    "305 = PATIENT\n",
    "306 = PATIENT FAMILY MEMBER OR FRIEND\n",
    "401 = BIOMEDICAL ENGINEER\n",
    "403 = MEDICAL EQUIPMENT COMPANY TECHNICIAN/REPRESENTATIVE\n",
    "405 = SERVICE PERSONNEL\n",
    "500 = RISK MANAGER\n",
    "600 = ATTORNEY\n",
    "999 = UNKNOWN\n",
    "NI = NO INFORMATION\n",
    "UNK = UNKNOWN\"\"\")\n",
    "df_FOI['REPORTER_OCCUPATION_CODE'].value_counts()"
   ]
  },
  {
   "cell_type": "code",
   "execution_count": 58,
   "metadata": {
    "collapsed": false
   },
   "outputs": [
    {
     "name": "stdout",
     "output_type": "stream",
     "text": [
      "Health Professional:\n",
      "Y = Yes\n",
      "U = Unknown;\n",
      "N = No;\n",
      "I = No information at this time\n",
      "* = Invalid\n"
     ]
    },
    {
     "data": {
      "image/png": "[encoded data removed]",
      "text/plain": [
       "<matplotlib.figure.Figure at 0x10def5b70>"
      ]
     },
     "metadata": {},
     "output_type": "display_data"
    }
   ],
   "source": [
    "print(\"\"\"Health Professional:\n",
    "Y = Yes\n",
    "U = Unknown;\n",
    "N = No;\n",
    "I = No information at this time\n",
    "* = Invalid\"\"\")\n",
    "ax = sns.countplot(x='HEALTH_PROFESSIONAL', data=df_FOI)\n",
    "plt.xlabel('Health Professional')\n",
    "plt.ylabel('Count')\n",
    "for p in ax.patches:\n",
    "    ax.annotate('{:.1f}'.format(p.get_height()), (p.get_x()+0.1, p.get_height()+50))"
   ]
  },
  {
   "cell_type": "code",
   "execution_count": 59,
   "metadata": {
    "collapsed": false
   },
   "outputs": [
    {
     "name": "stdout",
     "output_type": "stream",
     "text": [
      "Initial Report To Fda:\n",
      "Y = Yes\n",
      "U = Unknown;\n",
      "N = No;\n",
      "I = No information at this time\n",
      "* = Invalid\n"
     ]
    },
    {
     "data": {
      "image/png": "[encoded data removed]",
      "text/plain": [
       "<matplotlib.figure.Figure at 0x10d928d68>"
      ]
     },
     "metadata": {},
     "output_type": "display_data"
    }
   ],
   "source": [
    "print(\"\"\"Initial Report To Fda:\n",
    "Y = Yes\n",
    "U = Unknown;\n",
    "N = No;\n",
    "I = No information at this time\n",
    "* = Invalid\"\"\")\n",
    "ax = sns.countplot(x='INITIAL_REPORT_TO_FDA', data=df_FOI)\n",
    "plt.xlabel('Initial Report To Fda')\n",
    "plt.ylabel('Count')\n",
    "for p in ax.patches:\n",
    "    ax.annotate('{:.1f}'.format(p.get_height()), (p.get_x()+0.1, p.get_height()+50))"
   ]
  },
  {
   "cell_type": "code",
   "execution_count": 60,
   "metadata": {
    "collapsed": false
   },
   "outputs": [
    {
     "name": "stdout",
     "output_type": "stream",
     "text": [
      "Report To Fda:\n",
      "Y = Yes\n",
      "U = Unknown;\n",
      "N = No;\n",
      "I = No information at this time\n",
      "* = Invalid\n"
     ]
    },
    {
     "data": {
      "image/png": "[encoded data removed]",
      "text/plain": [
       "<matplotlib.figure.Figure at 0x10516c550>"
      ]
     },
     "metadata": {},
     "output_type": "display_data"
    }
   ],
   "source": [
    "print(\"\"\"Report To Fda:\n",
    "Y = Yes\n",
    "U = Unknown;\n",
    "N = No;\n",
    "I = No information at this time\n",
    "* = Invalid\"\"\")\n",
    "ax = sns.countplot(x='REPORT_TO_FDA', data=df_FOI)\n",
    "plt.xlabel('Report To Fda')\n",
    "plt.ylabel('Count')\n",
    "for p in ax.patches:\n",
    "    ax.annotate('{:.1f}'.format(p.get_height()), (p.get_x()+0.1, p.get_height()+50))"
   ]
  },
  {
   "cell_type": "code",
   "execution_count": 47,
   "metadata": {
    "collapsed": false
   },
   "outputs": [
    {
     "name": "stdout",
     "output_type": "stream",
     "text": [
      "Event Location:\n",
      "* = INVALID DATA\n",
      "000 = OTHER\n",
      "001 = HOSPITAL\n",
      "002 = HOME\n",
      "003 = NURSING HOME\n",
      "004 = OUTPATIENT TREATMENT FACILITY\n",
      "005 = OUTPATIENT DIAGNOSTIC FACILITY\n",
      "006 = AMBULATORY SURGICAL FACILITY\n",
      "500 = HOSPITAL\n",
      "508 = OPERATING ROOM\n",
      "509 = OUTPATIENT CLINIC/SURGERY\n",
      "600 = AMBULATORY HEALTH CARE FACILITY\n",
      "601 = AMBULATORY SURGICAL CENTER\n",
      "999 = UNKNOWN\n",
      "NI/I = NO INFORMATION\n",
      "UNK/U = UNKNOWN\n"
     ]
    },
    {
     "data": {
      "text/plain": [
       "UNK    4906\n",
       "001    3710\n",
       "006    3153\n",
       "*      2585\n",
       "999    1395\n",
       "000     761\n",
       "NI      728\n",
       "002     684\n",
       "I       311\n",
       "005      47\n",
       "004      36\n",
       "601      13\n",
       "600       6\n",
       "508       5\n",
       "500       5\n",
       "003       2\n",
       "U         1\n",
       "509       1\n",
       "Name: EVENT_LOCATION, dtype: int64"
      ]
     },
     "execution_count": 47,
     "metadata": {},
     "output_type": "execute_result"
    }
   ],
   "source": [
    "print(\"\"\"Event Location:\n",
    "* = INVALID DATA\n",
    "000 = OTHER\n",
    "001 = HOSPITAL\n",
    "002 = HOME\n",
    "003 = NURSING HOME\n",
    "004 = OUTPATIENT TREATMENT FACILITY\n",
    "005 = OUTPATIENT DIAGNOSTIC FACILITY\n",
    "006 = AMBULATORY SURGICAL FACILITY\n",
    "500 = HOSPITAL\n",
    "508 = OPERATING ROOM\n",
    "509 = OUTPATIENT CLINIC/SURGERY\n",
    "600 = AMBULATORY HEALTH CARE FACILITY\n",
    "601 = AMBULATORY SURGICAL CENTER\n",
    "999 = UNKNOWN\n",
    "NI/I = NO INFORMATION\n",
    "UNK/U = UNKNOWN\"\"\")\n",
    "df_FOI['EVENT_LOCATION'].value_counts()"
   ]
  },
  {
   "cell_type": "code",
   "execution_count": 61,
   "metadata": {
    "collapsed": false
   },
   "outputs": [
    {
     "name": "stdout",
     "output_type": "stream",
     "text": [
      "Single Use Flag:\n",
      "Y = Yes\n",
      "N = No\n",
      "I = No information at this time\n",
      "* = Invalid\n"
     ]
    },
    {
     "data": {
      "image/png": "[encoded data removed]",
      "text/plain": [
       "<matplotlib.figure.Figure at 0x10abf8ba8>"
      ]
     },
     "metadata": {},
     "output_type": "display_data"
    }
   ],
   "source": [
    "print(\"\"\"Single Use Flag:\n",
    "Y = Yes\n",
    "N = No\n",
    "I = No information at this time\n",
    "* = Invalid\"\"\")\n",
    "ax = sns.countplot(x='SINGLE_USE_FLAG', data=df_FOI)\n",
    "plt.xlabel('Single Use Flag')\n",
    "plt.ylabel('Count')\n",
    "for p in ax.patches:\n",
    "    ax.annotate('{:.1f}'.format(p.get_height()), (p.get_x()+0.1, p.get_height()+50))"
   ]
  },
  {
   "cell_type": "code",
   "execution_count": 62,
   "metadata": {
    "collapsed": false
   },
   "outputs": [
    {
     "name": "stdout",
     "output_type": "stream",
     "text": [
      "Previous Use Code:\n",
      "I = No information at this time\n",
      "N = No\n",
      "R = Device was returned to manufacturer\n",
      "* = No answer provided\n",
      "U = Unknown\n"
     ]
    },
    {
     "data": {
      "image/png": "[encoded data removed]",
      "text/plain": [
       "<matplotlib.figure.Figure at 0x10a966240>"
      ]
     },
     "metadata": {},
     "output_type": "display_data"
    }
   ],
   "source": [
    "print(\"\"\"Previous Use Code:\n",
    "I = No information at this time\n",
    "N = No\n",
    "R = Device was returned to manufacturer\n",
    "* = No answer provided\n",
    "U = Unknown\"\"\")\n",
    "ax = sns.countplot(x='PREVIOUS_USE_CODE', data=df_FOI)\n",
    "plt.xlabel('Previous Use Code')\n",
    "plt.ylabel('Count')\n",
    "for p in ax.patches:\n",
    "    ax.annotate('{:.1f}'.format(p.get_height()), (p.get_x()+0.1, p.get_height()+50))"
   ]
  },
  {
   "cell_type": "code",
   "execution_count": 53,
   "metadata": {
    "collapsed": false
   },
   "outputs": [
    {
     "name": "stdout",
     "output_type": "stream",
     "text": [
      "Event Type:\n",
      "D = Death\n",
      "IN = Injury\n",
      "IL = Injury\n",
      "IJ = Injury\n",
      "M = Malfunction\n",
      "O = Other\n",
      "* = No answer provided\n"
     ]
    },
    {
     "data": {
      "image/png": "[encoded data removed]",
      "text/plain": [
       "<matplotlib.figure.Figure at 0x10cc364a8>"
      ]
     },
     "metadata": {},
     "output_type": "display_data"
    }
   ],
   "source": [
    "print(\"\"\"Event Type:\n",
    "D = Death\n",
    "IN = Injury\n",
    "IL = Injury\n",
    "IJ = Injury\n",
    "M = Malfunction\n",
    "O = Other\n",
    "* = No answer provided\"\"\")\n",
    "ax = sns.countplot(x='EVENT_TYPE', data=df_FOI)\n",
    "plt.xlabel('Event Type')\n",
    "plt.ylabel('Count')\n",
    "for p in ax.patches:\n",
    "    ax.annotate('{:.1f}'.format(p.get_height()), (p.get_x()+0.1, p.get_height()+50))"
   ]
  },
  {
   "cell_type": "code",
   "execution_count": 64,
   "metadata": {
    "collapsed": false
   },
   "outputs": [
    {
     "name": "stdout",
     "output_type": "stream",
     "text": [
      "Type Of Report:\n",
      "I = Initial submission\n",
      "F = Followup\n",
      "X = Extra copy received\n",
      "O = Other information submitted\n"
     ]
    },
    {
     "data": {
      "image/png": "[encoded data removed]",
      "text/plain": [
       "<matplotlib.figure.Figure at 0x10dcf22e8>"
      ]
     },
     "metadata": {},
     "output_type": "display_data"
    }
   ],
   "source": [
    "print(\"\"\"Type Of Report:\n",
    "I = Initial submission\n",
    "F = Followup\n",
    "X = Extra copy received\n",
    "O = Other information submitted\"\"\")\n",
    "ax = sns.countplot(x='TYPE_OF_REPORT', data=df_FOI)\n",
    "plt.xlabel('Type Of Report')\n",
    "plt.ylabel('Count')\n",
    "for p in ax.patches:\n",
    "    ax.annotate('{:.1f}'.format(p.get_height()), (p.get_x()+0.1, p.get_height()+50))"
   ]
  },
  {
   "cell_type": "code",
   "execution_count": 66,
   "metadata": {
    "collapsed": false
   },
   "outputs": [
    {
     "name": "stdout",
     "output_type": "stream",
     "text": [
      "Event Location: showing top 30\n"
     ]
    },
    {
     "data": {
      "text/plain": [
       "04                               4063\n",
       "00                               2627\n",
       "08                               1733\n",
       "05                               1721\n",
       "06                                340\n",
       "99                                227\n",
       "07                                178\n",
       "05,06                             115\n",
       "05,08                              88\n",
       "FOREIGN,HEALTH PROFESSIONAL,L      84\n",
       "05,07                              53\n",
       "01,05                              49\n",
       "01,05,06,07                        38\n",
       "02,04                              35\n",
       "03,05                              35\n",
       "04,05                              27\n",
       "00,05                              25\n",
       "05,06,07                           24\n",
       "01,03,05                           23\n",
       "COMPANY REPRESENTATIVE,HEALTH      23\n",
       "HEALTH PROFESSIONAL,LITERATUR      21\n",
       "FOREIGN,HEALTH PROFESSIONAL        18\n",
       "05,HEALTH PROFESSIONAL             17\n",
       "COMPANY REPRESENTATIVE,FOREIG      15\n",
       "02,04,05                           12\n",
       "01,07                              11\n",
       "00,01                              11\n",
       "HEALTH PROFESSIONAL                11\n",
       "01,05,07                           10\n",
       "*                                   9\n",
       "Name: SOURCE_TYPE, dtype: int64"
      ]
     },
     "execution_count": 66,
     "metadata": {},
     "output_type": "execute_result"
    }
   ],
   "source": [
    "print(\"Event Location: showing top 30\")\n",
    "df_FOI['SOURCE_TYPE'].value_counts().nlargest(30)"
   ]
  },
  {
   "cell_type": "code",
   "execution_count": null,
   "metadata": {
    "collapsed": true
   },
   "outputs": [],
   "source": []
  }
 ],
 "metadata": {
  "kernelspec": {
   "display_name": "Python 3",
   "language": "python",
   "name": "python3"
  },
  "language_info": {
   "codemirror_mode": {
    "name": "ipython",
    "version": 3
   },
   "file_extension": ".py",
   "mimetype": "text/x-python",
   "name": "python",
   "nbconvert_exporter": "python",
   "pygments_lexer": "ipython3",
   "version": "3.6.2"
  }
 },
 "nbformat": 4,
 "nbformat_minor": 2
}
