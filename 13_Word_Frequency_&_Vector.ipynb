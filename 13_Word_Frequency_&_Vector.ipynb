{
 "cells": [
  {
   "cell_type": "code",
   "execution_count": 1,
   "metadata": {
    "collapsed": true
   },
   "outputs": [],
   "source": [
    "import os\n",
    "from string import punctuation\n",
    "import pandas as pd\n",
    "import numpy as np\n",
    "import nltk\n",
    "from nltk.tokenize import RegexpTokenizer\n",
    "from nltk.stem.wordnet import WordNetLemmatizer"
   ]
  },
  {
   "cell_type": "code",
   "execution_count": 3,
   "metadata": {},
   "outputs": [
    {
     "name": "stdout",
     "output_type": "stream",
     "text": [
      "PMT\n",
      "HUTCHISON INTERNATIONAL\n",
      "MEDICAL ENGINEERING CORPORATION\n",
      "ALLEGIANCE HEALTHCARE\n",
      "POLY IMPLANT PROTHESE\n",
      "SIENTRA\n",
      "SILIMED\n",
      "MENTOR\n",
      "NAGOR\n",
      "EUROMED\n",
      "MEDICAL ENGINEERING\n",
      "NATURAL Y SURGICAL SPECIALTIES\n",
      "COX-UPHOFF INTERNATIONAL\n",
      "BAXTER HEALTHCARE\n",
      "DOW CORNING\n",
      "IDEAL IMPLANT\n",
      "INAMED\n",
      "ALLERGAN\n",
      "BIOPLASTY\n",
      "BIOSIL\n",
      "MCGHAN\n"
     ]
    }
   ],
   "source": [
    "df_temp = pd.read_excel('2_foidev_column_full_list_standardized.xlsx', sheetname='foidev_MANUFACTURER_full_list')\n",
    "temp = list(df_temp['Standardized term'])\n",
    "temp = list(set(temp))\n",
    "temp.remove(np.nan)\n",
    "temp.remove('UNK')\n",
    "manufacturer = []\n",
    "for i in temp:\n",
    "    i = i.upper()\n",
    "    i = i.replace(' CORP.', '').replace(' CORPRATION', '').replace(' LTD', '')\\\n",
    "        .replace(' INC.', '').replace(', INC.', '').replace(' INCORPORATED', '').strip(',')\n",
    "    manufacturer.append(i)\n",
    "    print(i)\n",
    "del df_temp, temp"
   ]
  },
  {
   "cell_type": "code",
   "execution_count": 29,
   "metadata": {
    "collapsed": true
   },
   "outputs": [],
   "source": [
    "fill_type = ['SALINE', 'SILICONE', 'GEL', 'COHESIVE']\n",
    "surface_type = ['SMOOTH', 'TEXTURED', 'BIOCELL', 'MICROCELL', 'POLYURETHANE']\n",
    "implantation_indication = ['AUGMENTATION', 'RECONSTRUCTION', 'COSMETIC', 'REVISION']\n",
    "ALCL = ['ALCL', 'ANAPLASTIC LARGE CELL LYMPHOMA', 'LYMPHOMA', 'T-CELL LYMPHOMA', 'B-CELL LYMPHOMA',\n",
    "        'CANCER', 'TUMOR', 'SUSPECT', 'CONFIRM']\n",
    "side = ['LEFT', 'RIGHT', 'BILATERAL', 'BOTH SIDES']\n",
    "biomarker = ['CD 30', 'ALK', 'NEGATIVE', 'POSITIVE', 'CD30-', 'CD30+', 'ALK-', 'ALK+']\n",
    "symptom = ['breast pain', 'breast swelling', 'breast cyst', 'breast calcification', 'capsular contracture',\n",
    "           'lymph node enlargement', 'firmness of breast', 'hematoma', 'mass', 'lump', 'rupture', 'deflated',\n",
    "           'infection', 'abscess', 'leukopenia', 'nodules', 'skin discoloration', 'skin lesion', 'seroma',\n",
    "           'effusion', 'fluid', 'edema', 'leak', 'redness', 'tenderness', 'erythema', 'asymmetry', 'breast enlargement']"
   ]
  },
  {
   "cell_type": "code",
   "execution_count": 12,
   "metadata": {},
   "outputs": [
    {
     "name": "stdout",
     "output_type": "stream",
     "text": [
      "Device #: 28182\n",
      "Text #: 27137\n",
      "Full table #: 28301\n"
     ]
    }
   ],
   "source": [
    "df_BI_DEV = pd.read_csv('WF/DEV_BI_FULL_TABLE.txt', sep='|', header=0, encoding='ISO-8859-1', error_bad_lines=False)\n",
    "df_BI_DEV = df_BI_DEV.drop_duplicates()\n",
    "df_BI_TEXT = pd.read_csv('WF/TEXT_FULL_BI_LIST.txt', sep='|', header=0, encoding='ISO-8859-1', error_bad_lines=False)\n",
    "df_BI_TEXT = df_BI_TEXT.drop_duplicates('MDR_TEXT_KEY')\n",
    "print('Device #:', df_BI_DEV.shape[0])\n",
    "print('Text #:', df_BI_TEXT.shape[0])\n",
    "df_BI = df_BI_TEXT.merge(df_BI_DEV, on='MDR_REPORT_KEY', how='inner')\n",
    "df_BI['MANUFACTURER_D_NAME'] = df_BI['MANUFACTURER_D_NAME'].astype(str)\n",
    "df_BI['BRAND_NAME'] = df_BI['BRAND_NAME'].astype(str)\n",
    "df_BI['GENERIC_NAME'] = df_BI['GENERIC_NAME'].astype(str)\n",
    "df_BI['FOI_TEXT'] = df_BI['FOI_TEXT'].astype(str)\n",
    "print('Full table #:', df_BI.shape[0])"
   ]
  },
  {
   "cell_type": "code",
   "execution_count": 13,
   "metadata": {
    "collapsed": true
   },
   "outputs": [],
   "source": [
    "def text_search(text, k):\n",
    "    if k in text:\n",
    "        return True\n",
    "    else:\n",
    "        return False\n",
    "\n",
    "def filter_merge(f1, f2, f3):\n",
    "    return (f1 | f2 | f3)"
   ]
  },
  {
   "cell_type": "code",
   "execution_count": 11,
   "metadata": {},
   "outputs": [
    {
     "name": "stdout",
     "output_type": "stream",
     "text": [
      "Manufacturer word frequecy:\n",
      "\n",
      "PMT : 22\n",
      "HUTCHISON INTERNATIONAL : 2\n",
      "MEDICAL ENGINEERING CORPORATION : 3\n",
      "ALLEGIANCE HEALTHCARE : 14\n",
      "POLY IMPLANT PROTHESE : 3\n",
      "SIENTRA : 46\n",
      "SILIMED : 14\n",
      "MENTOR : 3536\n",
      "NAGOR : 4\n",
      "EUROMED : 1\n",
      "MEDICAL ENGINEERING : 1542\n",
      "NATURAL Y SURGICAL SPECIALTIES : 1\n",
      "COX-UPHOFF INTERNATIONAL : 2\n",
      "BAXTER HEALTHCARE : 351\n",
      "DOW CORNING : 3630\n",
      "IDEAL IMPLANT : 57\n",
      "INAMED : 234\n",
      "ALLERGAN : 2655\n",
      "BIOPLASTY : 23\n",
      "BIOSIL : 1760\n",
      "MCGHAN : 2184\n"
     ]
    }
   ],
   "source": [
    "print('Manufacturer word frequecy:\\n')\n",
    "for m in manufacturer:\n",
    "    df_BI['filter'] = np.vectorize(text_search)(df_BI['MANUFACTURER_D_NAME'], m)\n",
    "    temp = df_BI.loc[df_BI['filter']==True, :]\n",
    "    temp.to_csv('WF_FULL_TABLE/manufacturer/'+m+'.txt', header=True, sep='|', index=False)\n",
    "    print(m, ':', temp.shape[0])\n",
    "    del temp, df_BI['filter']"
   ]
  },
  {
   "cell_type": "code",
   "execution_count": 15,
   "metadata": {},
   "outputs": [
    {
     "name": "stdout",
     "output_type": "stream",
     "text": [
      "Surface type word frequecy:\n",
      "\n",
      "SMOOTH : 1056\n",
      "TEXTURED : 821\n",
      "BIOCELL : 80\n",
      "MICROCELL : 1\n",
      "POLYURETHANE : 391\n"
     ]
    }
   ],
   "source": [
    "print('Surface type word frequecy:\\n')\n",
    "for s in surface_type:\n",
    "    df_BI['filter_1'] = np.vectorize(text_search)(df_BI['BRAND_NAME'], s)\n",
    "    df_BI['filter_2'] = np.vectorize(text_search)(df_BI['GENERIC_NAME'], s)\n",
    "    df_BI['filter_3'] = np.vectorize(text_search)(df_BI['FOI_TEXT'], s)\n",
    "    df_BI['filter'] = np.vectorize(filter_merge)(df_BI['filter_1'], df_BI['filter_2'], df_BI['filter_3'])\n",
    "    temp = df_BI.loc[df_BI['filter']==True, :]\n",
    "    temp.to_csv('WF_FULL_TABLE/surface/'+s+'.txt', header=True, sep='|', index=False)\n",
    "    print(s, ':', temp.shape[0])\n",
    "    del temp, df_BI['filter'], df_BI['filter_1'], df_BI['filter_2'], df_BI['filter_3']"
   ]
  },
  {
   "cell_type": "code",
   "execution_count": 16,
   "metadata": {},
   "outputs": [
    {
     "name": "stdout",
     "output_type": "stream",
     "text": [
      "Fill type word frequecy:\n",
      "\n",
      "SALINE : 8322\n",
      "SILICONE : 11394\n",
      "GEL : 11466\n",
      "COHESIVE : 364\n"
     ]
    }
   ],
   "source": [
    "print('Fill type word frequecy:\\n')\n",
    "for f in fill_type:\n",
    "    df_BI['filter_1'] = np.vectorize(text_search)(df_BI['BRAND_NAME'], f)\n",
    "    df_BI['filter_2'] = np.vectorize(text_search)(df_BI['GENERIC_NAME'], f)\n",
    "    df_BI['filter_3'] = np.vectorize(text_search)(df_BI['FOI_TEXT'], f)\n",
    "    df_BI['filter'] = np.vectorize(filter_merge)(df_BI['filter_1'], df_BI['filter_2'], df_BI['filter_3'])\n",
    "    temp = df_BI.loc[df_BI['filter']==True, :]\n",
    "    temp.to_csv('WF_FULL_TABLE/fill/'+f+'.txt', header=True, sep='|', index=False)\n",
    "    print(f, ':', temp.shape[0])\n",
    "    del temp, df_BI['filter'], df_BI['filter_1'], df_BI['filter_2'], df_BI['filter_3']"
   ]
  },
  {
   "cell_type": "code",
   "execution_count": 23,
   "metadata": {},
   "outputs": [
    {
     "name": "stdout",
     "output_type": "stream",
     "text": [
      "Implantation indication word frequecy:\n",
      "\n",
      "AUGMENTATION : 1985\n",
      "RECONSTRUCTION : 1108\n",
      "COSMETIC : 267\n",
      "REVISION : 344\n"
     ]
    }
   ],
   "source": [
    "print('Implantation indication word frequecy:\\n')\n",
    "for i in implantation_indication:\n",
    "    df_BI['filter'] = np.vectorize(text_search)(df_BI['FOI_TEXT'], i)\n",
    "    temp = df_BI.loc[df_BI['filter']==True, :]\n",
    "    temp.to_csv('WF_FULL_TABLE/implantation_indication/'+i+'.txt', header=True, sep='|', index=False)\n",
    "    print(i, ':', temp.shape[0])\n",
    "    del temp, df_BI['filter']"
   ]
  },
  {
   "cell_type": "code",
   "execution_count": 19,
   "metadata": {},
   "outputs": [
    {
     "name": "stdout",
     "output_type": "stream",
     "text": [
      "ALCL word frequecy:\n",
      "\n",
      "ALCL : 907\n",
      "ANAPLASTIC LARGE CELL LYMPHOMA : 492\n",
      "LYMPHOMA : 1072\n",
      "T-CELL LYMPHOMA : 74\n",
      "B-CELL LYMPHOMA : 1\n",
      "CANCER : 867\n",
      "TUMOR : 167\n",
      "SUSPECT : 447\n",
      "CONFIRM : 732\n"
     ]
    }
   ],
   "source": [
    "print('ALCL word frequecy:\\n')\n",
    "for m in ALCL:\n",
    "    df_BI['filter'] = np.vectorize(text_search)(df_BI['FOI_TEXT'], m)\n",
    "    temp = df_BI.loc[df_BI['filter']==True, :]\n",
    "    temp.to_csv('WF_FULL_TABLE/ALCL/'+m+'.txt', header=True, sep='|', index=False)\n",
    "    print(m, ':', temp.shape[0])\n",
    "    del temp, df_BI['filter']"
   ]
  },
  {
   "cell_type": "code",
   "execution_count": 25,
   "metadata": {},
   "outputs": [
    {
     "name": "stdout",
     "output_type": "stream",
     "text": [
      "Side word frequecy:\n",
      "\n",
      "LEFT : 6952\n",
      "RIGHT : 7041\n",
      "BILATERAL : 7314\n",
      "BOTH SIDES : 98\n"
     ]
    }
   ],
   "source": [
    "print('Side word frequecy:\\n')\n",
    "for s in side:\n",
    "    df_BI['filter'] = np.vectorize(text_search)(df_BI['FOI_TEXT'], s)\n",
    "    temp = df_BI.loc[df_BI['filter']==True, :]\n",
    "    temp.to_csv('WF_FULL_TABLE/side/'+s+'.txt', header=True, sep='|', index=False)\n",
    "    print(s, ':', temp.shape[0])\n",
    "    del temp, df_BI['filter']"
   ]
  },
  {
   "cell_type": "code",
   "execution_count": 30,
   "metadata": {},
   "outputs": [
    {
     "name": "stdout",
     "output_type": "stream",
     "text": [
      "Biomarker word frequecy:\n",
      "\n",
      "CD 30 : 7\n",
      "ALK : 432\n",
      "NEGATIVE : 359\n",
      "POSITIVE : 569\n",
      "CD30- : 8\n",
      "CD30+ : 86\n",
      "ALK- : 113\n",
      "ALK+ : 0\n"
     ]
    }
   ],
   "source": [
    "print('Biomarker word frequecy:\\n')\n",
    "for b in biomarker:\n",
    "    df_BI['filter'] = np.vectorize(text_search)(df_BI['FOI_TEXT'], b)\n",
    "    temp = df_BI.loc[df_BI['filter']==True, :]\n",
    "    temp.to_csv('WF_FULL_TABLE/biomarker/'+b+'.txt', header=True, sep='|', index=False)\n",
    "    print(b, ':', temp.shape[0])\n",
    "    del temp, df_BI['filter']"
   ]
  },
  {
   "cell_type": "code",
   "execution_count": 33,
   "metadata": {},
   "outputs": [
    {
     "name": "stdout",
     "output_type": "stream",
     "text": [
      "Symptom word frequecy:\n",
      "\n",
      "BREAST PAIN : 713\n",
      "BREAST SWELLING : 33\n",
      "BREAST CYST : 6\n",
      "BREAST CALCIFICATION : 2\n",
      "CAPSULAR CONTRACTURE : 3104\n",
      "LYMPH NODE ENLARGEMENT : 3\n",
      "FIRMNESS OF BREAST : 5\n",
      "HEMATOMA : 795\n",
      "MASS : 624\n",
      "LUMP : 713\n",
      "RUPTURE : 6918\n",
      "DEFLATED : 1186\n",
      "INFECTION : 2003\n",
      "ABSCESS : 47\n",
      "LEUKOPENIA : 2\n",
      "NODULES : 84\n",
      "SKIN DISCOLORATION : 13\n",
      "SKIN LESION : 16\n",
      "SEROMA : 1141\n",
      "EFFUSION : 45\n",
      "FLUID : 684\n",
      "EDEMA : 85\n",
      "LEAK : 2053\n",
      "REDNESS : 210\n",
      "TENDERNESS : 377\n",
      "ERYTHEMA : 94\n",
      "ASYMMETRY : 688\n",
      "BREAST ENLARGEMENT : 10\n"
     ]
    }
   ],
   "source": [
    "print('Symptom word frequecy:\\n')\n",
    "for s in symptom:\n",
    "    s = s.upper()\n",
    "    df_BI['filter'] = np.vectorize(text_search)(df_BI['FOI_TEXT'], s)\n",
    "    temp = df_BI.loc[df_BI['filter']==True, :]\n",
    "    temp.to_csv('WF_FULL_TABLE/symptom/'+s+'.txt', header=True, sep='|', index=False)\n",
    "    print(s, ':', temp.shape[0])\n",
    "    del temp, df_BI['filter']"
   ]
  },
  {
   "cell_type": "code",
   "execution_count": null,
   "metadata": {
    "collapsed": true
   },
   "outputs": [],
   "source": []
  }
 ],
 "metadata": {
  "kernelspec": {
   "display_name": "Python 3",
   "language": "python",
   "name": "python3"
  },
  "language_info": {
   "codemirror_mode": {
    "name": "ipython",
    "version": 3
   },
   "file_extension": ".py",
   "mimetype": "text/x-python",
   "name": "python",
   "nbconvert_exporter": "python",
   "pygments_lexer": "ipython3",
   "version": "3.6.2"
  }
 },
 "nbformat": 4,
 "nbformat_minor": 2
}
